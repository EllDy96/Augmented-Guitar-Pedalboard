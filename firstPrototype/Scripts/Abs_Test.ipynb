{
 "cells": [
  {
   "cell_type": "code",
   "execution_count": null,
   "metadata": {},
   "outputs": [
    {
     "ename": "",
     "evalue": "",
     "output_type": "error",
     "traceback": [
      "\u001b[1;31mRunning cells with 'Python 3.9.1 ('flaskEnv')' requires ipykernel package.\n",
      "\u001b[1;31mRun the following command to install 'ipykernel' into the Python environment. \n",
      "\u001b[1;31mCommand: 'conda install -n flaskEnv ipykernel --update-deps --force-reinstall'"
     ]
    }
   ],
   "source": [
    "import openpyxl\n",
    "from pathlib import Path\n",
    "import pandas as pd\n",
    "import numpy as np\n",
    "import matplotlib.pyplot as plt\n",
    "import librosa, librosa.display\n",
    "import scipy \n",
    "from scipy.io import wavfile\n",
    "import IPython.display as ipd\n",
    "import os\n"
   ]
  },
  {
   "cell_type": "code",
   "execution_count": null,
   "metadata": {},
   "outputs": [
    {
     "ename": "",
     "evalue": "",
     "output_type": "error",
     "traceback": [
      "\u001b[1;31mRunning cells with 'Python 3.9.1 ('flaskEnv')' requires ipykernel package.\n",
      "\u001b[1;31mRun the following command to install 'ipykernel' into the Python environment. \n",
      "\u001b[1;31mCommand: 'conda install -n flaskEnv ipykernel --update-deps --force-reinstall'"
     ]
    }
   ],
   "source": [
    "file = \"C:\\\\Users\\david\\OneDrive - Politecnico di Milano\\Il_mio_mondo\\Corsi Università\\Magistrale\\Tesi\\LWT3\\\\firstPrototype\\Abs_Test_rms.xlsx\"\n",
    "##folder = \"C:\\\\Users\\TestManager\\Desktop\\Test_Roberto\\KLAAS_DEVOS\\Abs_Audio.wav\"\n",
    "sheet = \"Sheet1\"\n",
    "df = pd.read_excel(io=file, sheet_name=sheet)\n",
    "#print(\"df type = {}\".format(type(df)))\n",
    "#print(\"df = \\n{}\".format(df.head(10)))\n",
    "npdf = np.asarray(df)\n",
    "print(\"npdf = \\n{}\".format(npdf[1:20, 1:10]))\n",
    "sr=1000  # Hz\n",
    "\n",
    "print(\"shape npdf = {}\".format(np.shape(npdf)))\n",
    "signal_bicep_Dx = npdf.T[1, 1:]\n",
    "\n",
    "#np.save(folder, signal_bicep_Dx)\n",
    "#signal_bicep_Dx = wavefile.read(folder)\n",
    "#signal_bicep_Dx = wav.read(folder)\n",
    "#signal_bicep_Dx = wavfile.read(folder)\n",
    "#signal_bicep_Dx = librosa.load(folder, sr=sr)\n",
    "s_lenght = signal_bicep_Dx.shape[0]\n",
    "s_duration = (1/sr)*s_lenght\n",
    "s_instants = np.arange(0, s_lenght)*1/sr"
   ]
  },
  {
   "cell_type": "code",
   "execution_count": null,
   "metadata": {},
   "outputs": [
    {
     "ename": "",
     "evalue": "",
     "output_type": "error",
     "traceback": [
      "\u001b[1;31mRunning cells with 'Python 3.9.1 ('flaskEnv')' requires ipykernel package.\n",
      "\u001b[1;31mRun the following command to install 'ipykernel' into the Python environment. \n",
      "\u001b[1;31mCommand: 'conda install -n flaskEnv ipykernel --update-deps --force-reinstall'"
     ]
    }
   ],
   "source": [
    "signal_Spinae_Sx  = npdf.T[4, 1:]\n",
    "signal_bicep_Dx = signal_bicep_Dx / np.max(signal_bicep_Dx)\n",
    "signal_bicep_Dx[signal_bicep_Dx<0.1] = 0\n",
    "signal_Spinae_Sx = signal_Spinae_Sx / np.max(signal_Spinae_Sx)\n",
    "signal_Spinae_Sx[signal_Spinae_Sx<0.1] = 0\n",
    "print(\"Original Duration: {} seconds\".format(s_duration))\n",
    "plt.figure(figsize=(10,6))\n",
    "plt.plot(s_instants, signal_bicep_Dx)\n",
    "plt.plot(s_instants, signal_Spinae_Sx)\n",
    "#plt.autoscale(enable=True, axis='x', tight=True)\n",
    "plt.xlabel('Time [s]')\n",
    "plt.ylabel('Amplitude')"
   ]
  },
  {
   "cell_type": "code",
   "execution_count": null,
   "metadata": {},
   "outputs": [
    {
     "ename": "",
     "evalue": "",
     "output_type": "error",
     "traceback": [
      "\u001b[1;31mRunning cells with 'Python 3.9.1 ('flaskEnv')' requires ipykernel package.\n",
      "\u001b[1;31mRun the following command to install 'ipykernel' into the Python environment. \n",
      "\u001b[1;31mCommand: 'conda install -n flaskEnv ipykernel --update-deps --force-reinstall'"
     ]
    }
   ],
   "source": [
    "signal_Spinae_Sx[signal_Spinae_Sx<0.05] = 0\n",
    "print(\"Original Duration: {} seconds\".format(s_duration))\n",
    "plt.figure(figsize=(10,6))\n",
    "plt.plot(s_instants, signal_Spinae_Sx)\n",
    "#plt.autoscale(enable=True, axis='x', tight=True)\n",
    "plt.xlabel('Time [s]')\n",
    "plt.ylabel('Amplitude')"
   ]
  },
  {
   "cell_type": "code",
   "execution_count": null,
   "metadata": {},
   "outputs": [
    {
     "ename": "",
     "evalue": "",
     "output_type": "error",
     "traceback": [
      "\u001b[1;31mRunning cells with 'Python 3.9.1 ('flaskEnv')' requires ipykernel package.\n",
      "\u001b[1;31mRun the following command to install 'ipykernel' into the Python environment. \n",
      "\u001b[1;31mCommand: 'conda install -n flaskEnv ipykernel --update-deps --force-reinstall'"
     ]
    }
   ],
   "source": [
    "ipd.Audio(signal_bicep_Dx, rate = sr)"
   ]
  },
  {
   "cell_type": "code",
   "execution_count": null,
   "metadata": {},
   "outputs": [
    {
     "ename": "",
     "evalue": "",
     "output_type": "error",
     "traceback": [
      "\u001b[1;31mRunning cells with 'Python 3.9.1 ('flaskEnv')' requires ipykernel package.\n",
      "\u001b[1;31mRun the following command to install 'ipykernel' into the Python environment. \n",
      "\u001b[1;31mCommand: 'conda install -n flaskEnv ipykernel --update-deps --force-reinstall'"
     ]
    }
   ],
   "source": [
    "NFFT = 512\n",
    "frame_length = NFFT\n",
    "hop_length = frame_length / 2"
   ]
  },
  {
   "cell_type": "code",
   "execution_count": null,
   "metadata": {},
   "outputs": [
    {
     "ename": "",
     "evalue": "",
     "output_type": "error",
     "traceback": [
      "\u001b[1;31mRunning cells with 'Python 3.9.1 ('flaskEnv')' requires ipykernel package.\n",
      "\u001b[1;31mRun the following command to install 'ipykernel' into the Python environment. \n",
      "\u001b[1;31mCommand: 'conda install -n flaskEnv ipykernel --update-deps --force-reinstall'"
     ]
    }
   ],
   "source": [
    "print(\"signal type = {}\".format(type(signal_bicep_Dx[0])))\n",
    "#X = librosa.stft(signal_bicep_Dx, n_fft=NFFT, hop_length=hop_length, win_length=frame_length, window='hamming', center=False)\n",
    "#Xmag = np.abs(X)\n",
    "#XdB = librosa.amplitude_to_db(Xmag)\n",
    "#librosa.display.specshow(Xmag, sr=sr,hop_length=hop_length,x_axis='time', y_axis='linear', cmap='viridis')\n",
    "#plt.colorbar()\n",
    "#plt.title('Spectrogram [Amplitude]')#"
   ]
  },
  {
   "cell_type": "markdown",
   "metadata": {},
   "source": [
    "# OSC Variables and Libraries\n"
   ]
  },
  {
   "cell_type": "code",
   "execution_count": null,
   "metadata": {},
   "outputs": [
    {
     "ename": "",
     "evalue": "",
     "output_type": "error",
     "traceback": [
      "\u001b[1;31mRunning cells with 'Python 3.9.1 ('flaskEnv')' requires ipykernel package.\n",
      "\u001b[1;31mRun the following command to install 'ipykernel' into the Python environment. \n",
      "\u001b[1;31mCommand: 'conda install -n flaskEnv ipykernel --update-deps --force-reinstall'"
     ]
    }
   ],
   "source": [
    "\n",
    "import argparse #to properly understand incoming OSC messages \n",
    "from pythonosc import udp_client# allow us to listen from messages \n",
    "from pythonosc import dispatcher # allow us to catch and map input from osc \n",
    "from pythonosc import osc_server # to create osc messages \n",
    "from pythonosc import osc_message_builder #to create adress-value massages \n",
    "from pythonosc.osc_server import ThreadingOSCUDPServer\n",
    "\n",
    "# we need to set up the main python methods, dealing with the main python thread first \n",
    "\n",
    "def sEmg1_mapping(unused_addr, args):\n",
    "    print(\"sEMG1 received\") \n",
    "    client.send_message(\"/sEmg_1_received\", \"value\")\n",
    "\n",
    "\n",
    "\n",
    "if __name__ == \"__main__\":\n",
    "    #if you are the python main thread then we are going to set up the catchng and sending of OSC messages\n",
    "    #Set OSC port\n",
    "    ip = \"127.0.0.1\" #specila ip to send message only into your computer loval ip adress\n",
    "    sendPort = 57121 #check the port later \n",
    "    inPort= 8000 #check later \n",
    "    #sending osc messages \n",
    "    client = udp_client.SimpleUDPClient(ip,sendPort)\n",
    "\n",
    "    #cathces OSC messages \n",
    "    dispatcher = dispatcher.Dispatcher()\n",
    "    #now we create the message names\n",
    "    dispatcher.map(\"/sEmg1\", sEmg1_mapping) #message name, function to call \n",
    "\n",
    "    #setting up a server\n",
    "    server = ThreadingOSCUDPServer((ip, inPort), dispatcher)\n",
    "    print(\"server is on {}.\".format(server.server_address))\n",
    "    server.run_forever() #costantily listening for messages \n",
    "    server.kill()"
   ]
  },
  {
   "cell_type": "code",
   "execution_count": null,
   "metadata": {},
   "outputs": [
    {
     "ename": "",
     "evalue": "",
     "output_type": "error",
     "traceback": [
      "\u001b[1;31mRunning cells with 'Python 3.9.1 ('flaskEnv')' requires ipykernel package.\n",
      "\u001b[1;31mRun the following command to install 'ipykernel' into the Python environment. \n",
      "\u001b[1;31mCommand: 'conda install -n flaskEnv ipykernel --update-deps --force-reinstall'"
     ]
    }
   ],
   "source": [
    "\n",
    "\n",
    "\n",
    "\n",
    "\n",
    "# initializing the client \n",
    "client = udp_client.SimpleUDPClient(ip, port)\n",
    "\n",
    "#to fix the signal_spinae_Sx \n",
    "client.send_message(\"/sEMG\",signal_Spinae_Sx)\n",
    "\n",
    "\n",
    "\n",
    "\n",
    "\n",
    "to_scde = 0\n",
    "#Max port\n",
    "MaxPort = 7771\n",
    "\n",
    "from pythonosc.dispatcher import Dispatcher\n",
    "from pythonosc.osc_server import BlockingOSCUDPServer\n",
    "\n",
    "\n",
    "def print_handler(address, *args):\n",
    "    print(f\"{address}: {args}\")\n",
    "\n",
    "\n",
    "def default_handler(address, *args):\n",
    "    print(f\"DEFAULT {address}: {args}\")\n",
    "\n",
    "\n",
    "dispatcher = Dispatcher()\n",
    "dispatcher.map(\"/something/*\", print_handler)\n",
    "dispatcher.set_default_handler(default_handler)\n",
    "\n",
    "ip = \"127.0.0.1\"\n",
    "port = 1337\n",
    "\n",
    "\n",
    "server.serve_forever()  # Blocks forever\n",
    "\n",
    "# Parse the arguments\n",
    "#args = parser.parse_args()\n",
    "\n",
    "args, unknown = parser.parse_known_args()\n",
    "\n",
    "# Start the UDP Client\n",
    "client = udp_client.SimpleUDPClient(args.ip, args.port) \n",
    "\n",
    "client1 = udp_client.SimpleUDPClient(args.ip, port1) \n",
    "client2 = udp_client.SimpleUDPClient(args.ip, port2) \n",
    "client3 = udp_client.SimpleUDPClient(args.ip, port3) \n",
    "client4 = udp_client.SimpleUDPClient(args.ip, port4) \n",
    "client5 = udp_client.SimpleUDPClient(args.ip, port5) \n",
    "client6 = udp_client.SimpleUDPClient(args.ip, port6)\n",
    "\n",
    "client_scde = udp_client.SimpleUDPClient(args.ip, MaxPort)\n",
    "\n",
    "\n",
    "client.send_message('/globe_control', count_in)   \n",
    "client1.send_message('/motion_detected', 1)   \n",
    "client2.send_message('/motion_detected', 0)   \n",
    "client3.send_message('/motion_detected', 0)   \n",
    "client4.send_message('/motion_detected', 0)   \n",
    "client5.send_message('/motion_detected', 0)   \n",
    "client6.send_message('/motion_detected', 0) "
   ]
  }
 ],
 "metadata": {
  "kernelspec": {
   "display_name": "Python 3",
   "language": "python",
   "name": "python3"
  },
  "language_info": {
   "codemirror_mode": {
    "name": "ipython",
    "version": 3
   },
   "file_extension": ".py",
   "mimetype": "text/x-python",
   "name": "python",
   "nbconvert_exporter": "python",
   "pygments_lexer": "ipython3",
   "version": "3.9.7 (default, Sep 16 2021, 16:59:28) [MSC v.1916 64 bit (AMD64)]"
  },
  "orig_nbformat": 4,
  "vscode": {
   "interpreter": {
    "hash": "adc25c36997d42f69ceee5c38e81090572c753b0ed2262bbe934043839d5d477"
   }
  }
 },
 "nbformat": 4,
 "nbformat_minor": 2
}
