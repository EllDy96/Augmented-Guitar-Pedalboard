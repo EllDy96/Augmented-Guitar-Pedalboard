{
 "cells": [
  {
   "attachments": {},
   "cell_type": "markdown",
   "metadata": {},
   "source": [
    "## Mapping the sEMG via OSC\n"
   ]
  },
  {
   "attachments": {},
   "cell_type": "markdown",
   "metadata": {},
   "source": [
    "### Importing the libraries\n"
   ]
  },
  {
   "cell_type": "code",
   "execution_count": 2,
   "metadata": {},
   "outputs": [],
   "source": [
    "import numpy as np\n",
    "import matplotlib.pyplot as plt\n",
    "from pathlib import Path\n",
    "import pandas as pd\n",
    "\n",
    "##################### OSC libraries #########################\n",
    "import argparse #to properly understand incoming OSC messages \n",
    "from pythonosc import dispatcher # allow us to catch and map input from osc \n",
    "from pythonosc import osc_server # to create osc messages \n",
    "from pythonosc import osc_message_builder #to create adress-value massages \n",
    "from pythonosc import udp_client# allow us to listen from messages \n",
    "from pythonosc.osc_server import ThreadingOSCUDPServer"
   ]
  },
  {
   "attachments": {},
   "cell_type": "markdown",
   "metadata": {},
   "source": [
    "### Importing the sEmg signal\n"
   ]
  },
  {
   "cell_type": "code",
   "execution_count": 3,
   "metadata": {},
   "outputs": [],
   "source": [
    "sheet= \"Sheet1\" #exel sheet name\n",
    "\n",
    "# We will use these two lists for the plots \n",
    "muscles= ['Brachioradialis  Sx', \n",
    "          'Brachioradialis  Dx',\n",
    "          'Extensor Carpi Radialis Sx',\n",
    "          'Extensor Carpi Radialis  Dx',\n",
    "          'Triceps brachii Long Head Dx', \n",
    "          'Deltoid  Lateral  Dx',\n",
    "          'Abductor digiti minimi (hand) Sx',\n",
    "          'Abductor digiti minimi (hand) Dx']\n",
    "gesture = ['Arpeggio',\n",
    "           'Strumming',\n",
    "           'Bending', \n",
    "           'PullOffHammerOn',\n",
    "           'Tapping',\n",
    "            'StrongPick',\n",
    "            'DoublePick']\n",
    "\n",
    "\n",
    "#RMS path\n",
    "arpeggio_path_rms =  \"C:\\\\Users\\david\\OneDrive - Politecnico di Milano\\Documenti\\GItDesktop\\MAE_Thesis\\\\firstPrototype\\secondAcquisition\\\\1 Arpeggio\\Arpeggio_rms_exp.xlsx\"\n",
    "strumming_path_rms = \"C:\\\\Users\\david\\OneDrive - Politecnico di Milano\\Documenti\\GItDesktop\\MAE_Thesis\\\\firstPrototype\\secondAcquisition\\\\2 Strumming\\Strumming_rms_exp.xlsx\"\n",
    "bending_path_rms = \"C:\\\\Users\\david\\OneDrive - Politecnico di Milano\\Documenti\\GItDesktop\\MAE_Thesis\\\\firstPrototype\\secondAcquisition\\\\3 Bending\\Bending_rms_exp.xlsx\"\n",
    "pullOffHammerOn_path_rms = \"C:\\\\Users\\david\\OneDrive - Politecnico di Milano\\Documenti\\GItDesktop\\MAE_Thesis\\\\firstPrototype\\secondAcquisition\\\\4 PullOffHammerOn\\PullOffHammerOn_rms_exp.xlsx\"\n",
    "tapping_path_rms = \"C:\\\\Users\\david\\OneDrive - Politecnico di Milano\\Documenti\\GItDesktop\\MAE_Thesis\\\\firstPrototype\\secondAcquisition\\\\5 Tapping\\\\tapping_rms_exp.xlsx\"\n",
    "strongPick_path_rms = \"C:\\\\Users\\david\\OneDrive - Politecnico di Milano\\Documenti\\GItDesktop\\MAE_Thesis\\\\firstPrototype\\secondAcquisition\\\\6 StrongPick\\\\strongPick_rms_exp.xlsx\"\n",
    "doublePick_path_rms = \"C:\\\\Users\\david\\OneDrive - Politecnico di Milano\\Documenti\\GItDesktop\\MAE_Thesis\\\\firstPrototype\\secondAcquisition\\\\7 DoublePick\\\\doublePick_rms_exp.xlsx\"\n",
    "\n",
    "#RAW path\n",
    "arpeggio_path_raw =  \"C:\\\\Users\\david\\OneDrive - Politecnico di Milano\\Documenti\\GItDesktop\\MAE_Thesis\\\\firstPrototype\\secondAcquisition\\\\1 Arpeggio\\Arpeggio_exp.xlsx\"\n",
    "strumming_path_raw = \"C:\\\\Users\\david\\OneDrive - Politecnico di Milano\\Documenti\\GItDesktop\\MAE_Thesis\\\\firstPrototype\\secondAcquisition\\\\2 Strumming\\Strumming_exp.xlsx\"\n",
    "bending_path_raw = \"C:\\\\Users\\david\\OneDrive - Politecnico di Milano\\Documenti\\GItDesktop\\MAE_Thesis\\\\firstPrototype\\secondAcquisition\\\\3 Bending\\Bending_exp.xlsx\"\n",
    "pullOffHammerOn_path_raw = \"C:\\\\Users\\david\\OneDrive - Politecnico di Milano\\Documenti\\GItDesktop\\MAE_Thesis\\\\firstPrototype\\secondAcquisition\\\\4 PullOffHammerOn\\PullOffHammerOn_exp.xlsx\"\n",
    "tapping_path_raw = \"C:\\\\Users\\david\\OneDrive - Politecnico di Milano\\Documenti\\GItDesktop\\MAE_Thesis\\\\firstPrototype\\secondAcquisition\\\\5 Tapping\\\\tapping_exp.xlsx\"\n",
    "strongPick_path_raw = \"C:\\\\Users\\david\\OneDrive - Politecnico di Milano\\Documenti\\GItDesktop\\MAE_Thesis\\\\firstPrototype\\secondAcquisition\\\\6 StrongPick\\\\strongPick_exp.xlsx\"\n",
    "doublePick_path_raw = \"C:\\\\Users\\david\\OneDrive - Politecnico di Milano\\Documenti\\GItDesktop\\MAE_Thesis\\\\firstPrototype\\secondAcquisition\\\\7 DoublePick\\\\doublePick_exp.xlsx\"\n",
    "#loading the rawPower dataframes\n",
    "\n",
    "dataFrame_tapping_rms = pd.read_excel(io=tapping_path_rms, sheet_name=sheet)\n",
    "dataFrame_tapping_raw = pd.read_excel(io=tapping_path_raw, sheet_name=sheet)\n",
    "\n",
    "# np array convertion\n",
    "npdf_tapping_rms = np.asarray(dataFrame_tapping_rms) \n",
    "npdf_tapping_raw = np.asarray(dataFrame_tapping_raw) \n",
    "\n",
    "def loading_exp(raw_path,rms_path, sheet= \"Sheet1\", discarded_sample= 10000):\n",
    "    dataFrame_raw = pd.read_excel(io=raw_path, sheet_name=sheet)\n",
    "    dataFrame_rms = pd.read_excel(io=rms_path, sheet_name=sheet)\n",
    "\n",
    "    #np array convertion deleting the first column equal to datatime, and the first raw equal to the muscles name\n",
    "    \n",
    "    npdf_raw= np.asarray(dataFrame_raw).T[1:,discarded_sample:]\n",
    "    npdf_rms= np.asarray(dataFrame_rms).T[1:,discarded_sample:]\n",
    "    return npdf_raw,npdf_rms \n",
    "\n",
    "tapping_raw, tapping_rms = loading_exp(tapping_path_raw, tapping_path_rms)\n",
    "\n",
    "\n",
    "# alto zero crossing vuole dire una maggiore frequenza di attivazione del muscolo e quindi indica un aumento dello sforzo \n",
    "\n"
   ]
  },
  {
   "cell_type": "code",
   "execution_count": 4,
   "metadata": {},
   "outputs": [],
   "source": [
    "#TAPPING\n",
    "tapping_raw, tapping_rms = loading_exp(tapping_path_raw, tapping_path_rms)\n",
    "\n",
    "tapping_left_outer_forearm_rms = tapping_rms[2] \n",
    "tapping_left_outer_forearm_raw = tapping_raw[2]\n",
    "\n",
    "#STRUMMING\n",
    "strumming_raw, strumming_rms = loading_exp(strumming_path_raw, strumming_path_rms)\n",
    "\n",
    "strumming_left_outer_forearm_rms = strumming_rms[2] \n",
    "strumming_left_outer_forearm_raw = strumming_raw[2]\n",
    "\n",
    "#ARPEGGIO\n",
    "\n",
    "arpeggio_raw, arpeggio_rms = loading_exp(arpeggio_path_raw, arpeggio_path_rms)\n",
    "\n",
    "arpeggio_left_outer_forearm_rms = arpeggio_rms[2] \n",
    "arpeggio_left_outer_forearm_raw = arpeggio_raw[2]\n",
    "\n",
    "#BENDING\n",
    "\n",
    "bending_raw, bending_rms = loading_exp(bending_path_raw, bending_path_rms)\n",
    "\n",
    "bending_left_outer_forearm_rms = bending_rms[2] \n",
    "bending_left_outer_forearm_raw = bending_raw[2]\n",
    "\n",
    "#pullOffHammerOn\n",
    "pullOffHammerOn_raw, pullOffHammerOn_rms = loading_exp(pullOffHammerOn_path_raw, pullOffHammerOn_path_rms)\n",
    "\n",
    "pullOffHammerOn_left_outer_forearm_rms = pullOffHammerOn_rms[2] \n",
    "pullOffHammerOn_left_outer_forearm_raw = pullOffHammerOn_raw[2]\n",
    "\n",
    "#STRONGPICK\n",
    "strongPick_raw, strongPick_rms = loading_exp(strongPick_path_raw, strongPick_path_rms)\n",
    "\n",
    "strongPick_left_outer_forearm_rms = strongPick_rms[2] \n",
    "strongPick_left_outer_forearm_raw = strongPick_raw[2]\n",
    "\n",
    "#DOUBLE PICK\n",
    "doublePick_raw, doublePick_rms = loading_exp(doublePick_path_raw, doublePick_path_rms)\n",
    "\n",
    "doublePick_left_outer_forearm_rms = doublePick_rms[2] \n",
    "doublePick_left_outer_forearm_raw = doublePick_raw[2]\n",
    "\n"
   ]
  },
  {
   "cell_type": "code",
   "execution_count": 5,
   "metadata": {},
   "outputs": [],
   "source": [
    "arpeggio_right_outer_forearm_rms = arpeggio_rms[3] \n",
    "arpeggio_right_outer_forearm_raw = arpeggio_raw[3]"
   ]
  },
  {
   "cell_type": "code",
   "execution_count": 6,
   "metadata": {},
   "outputs": [
    {
     "name": "stdout",
     "output_type": "stream",
     "text": [
      "num_samples:  32977 duration[s]:  32.977000000000004\n"
     ]
    }
   ],
   "source": [
    "\n",
    "fs= 1000\n",
    "num_samples= strumming_left_outer_forearm_raw.shape[0]\n",
    "second_duration = (1/fs)* num_samples\n",
    "istants_array= np.arange(0, num_samples)/fs\n",
    "\n",
    "print('num_samples: ',num_samples,'duration[s]: ', second_duration)"
   ]
  },
  {
   "attachments": {},
   "cell_type": "markdown",
   "metadata": {},
   "source": [
    "\n",
    "### ZCR computation"
   ]
  },
  {
   "cell_type": "code",
   "execution_count": 7,
   "metadata": {},
   "outputs": [],
   "source": [
    "def ZC(vect):\n",
    "    \"\"\"computes the zero_crossing\n",
    "    \n",
    "    Args:\n",
    "        vect(array_like): array on which compute the zero crossing\n",
    "\n",
    "    Returns: \n",
    "        int: ZC value\n",
    "    \"\"\"\n",
    "    return len(np.where(np.diff(np.sign(vect)))[0])\n",
    "\n",
    "def zcr_signal(sEmg_array):\n",
    "    \"\"\"\n",
    "    Take in input the sEmg array(np) and compute the zcr applying a rolling window\n",
    "    \"\"\"\n",
    "    win_length = 500 # Window length\n",
    "    win_stride = 250 # Window stride = hop_size\n",
    "    n_windows = int((len(sEmg_array) - win_length) / win_stride) + 1 # It's gonna be the lenght of the zcr vector\n",
    "    print('n_window= ', n_windows)\n",
    "    windows = np.array([sEmg_array[i:i+win_length] for i in range(0, n_windows*win_stride, win_stride)])\n",
    "    zcrs = [ZC(window) for window in windows]\n",
    "    return zcrs\n",
    "\n"
   ]
  },
  {
   "attachments": {},
   "cell_type": "markdown",
   "metadata": {},
   "source": [
    "### OSC connection setup\n",
    "\n"
   ]
  },
  {
   "cell_type": "code",
   "execution_count": 8,
   "metadata": {},
   "outputs": [
    {
     "name": "stdout",
     "output_type": "stream",
     "text": [
      "server is on ('127.0.0.1', 8000).\n"
     ]
    },
    {
     "ename": "KeyboardInterrupt",
     "evalue": "",
     "output_type": "error",
     "traceback": [
      "\u001b[1;31m---------------------------------------------------------------------------\u001b[0m",
      "\u001b[1;31mKeyboardInterrupt\u001b[0m                         Traceback (most recent call last)",
      "Cell \u001b[1;32mIn[8], line 20\u001b[0m\n\u001b[0;32m     18\u001b[0m server \u001b[39m=\u001b[39m ThreadingOSCUDPServer((ip, inPort), dispatcher)\n\u001b[0;32m     19\u001b[0m \u001b[39mprint\u001b[39m(\u001b[39m\"\u001b[39m\u001b[39mserver is on \u001b[39m\u001b[39m{}\u001b[39;00m\u001b[39m.\u001b[39m\u001b[39m\"\u001b[39m\u001b[39m.\u001b[39mformat(server\u001b[39m.\u001b[39mserver_address))\n\u001b[1;32m---> 20\u001b[0m server\u001b[39m.\u001b[39;49mserve_forever()\n",
      "File \u001b[1;32mc:\\Users\\david\\OneDrive - Politecnico di Milano\\miniconda3\\envs\\EMG\\lib\\socketserver.py:232\u001b[0m, in \u001b[0;36mBaseServer.serve_forever\u001b[1;34m(self, poll_interval)\u001b[0m\n\u001b[0;32m    229\u001b[0m selector\u001b[39m.\u001b[39mregister(\u001b[39mself\u001b[39m, selectors\u001b[39m.\u001b[39mEVENT_READ)\n\u001b[0;32m    231\u001b[0m \u001b[39mwhile\u001b[39;00m \u001b[39mnot\u001b[39;00m \u001b[39mself\u001b[39m\u001b[39m.\u001b[39m__shutdown_request:\n\u001b[1;32m--> 232\u001b[0m     ready \u001b[39m=\u001b[39m selector\u001b[39m.\u001b[39;49mselect(poll_interval)\n\u001b[0;32m    233\u001b[0m     \u001b[39m# bpo-35017: shutdown() called during select(), exit immediately.\u001b[39;00m\n\u001b[0;32m    234\u001b[0m     \u001b[39mif\u001b[39;00m \u001b[39mself\u001b[39m\u001b[39m.\u001b[39m__shutdown_request:\n",
      "File \u001b[1;32mc:\\Users\\david\\OneDrive - Politecnico di Milano\\miniconda3\\envs\\EMG\\lib\\selectors.py:324\u001b[0m, in \u001b[0;36mSelectSelector.select\u001b[1;34m(self, timeout)\u001b[0m\n\u001b[0;32m    322\u001b[0m ready \u001b[39m=\u001b[39m []\n\u001b[0;32m    323\u001b[0m \u001b[39mtry\u001b[39;00m:\n\u001b[1;32m--> 324\u001b[0m     r, w, _ \u001b[39m=\u001b[39m \u001b[39mself\u001b[39;49m\u001b[39m.\u001b[39;49m_select(\u001b[39mself\u001b[39;49m\u001b[39m.\u001b[39;49m_readers, \u001b[39mself\u001b[39;49m\u001b[39m.\u001b[39;49m_writers, [], timeout)\n\u001b[0;32m    325\u001b[0m \u001b[39mexcept\u001b[39;00m \u001b[39mInterruptedError\u001b[39;00m:\n\u001b[0;32m    326\u001b[0m     \u001b[39mreturn\u001b[39;00m ready\n",
      "File \u001b[1;32mc:\\Users\\david\\OneDrive - Politecnico di Milano\\miniconda3\\envs\\EMG\\lib\\selectors.py:315\u001b[0m, in \u001b[0;36mSelectSelector._select\u001b[1;34m(self, r, w, _, timeout)\u001b[0m\n\u001b[0;32m    314\u001b[0m \u001b[39mdef\u001b[39;00m \u001b[39m_select\u001b[39m(\u001b[39mself\u001b[39m, r, w, _, timeout\u001b[39m=\u001b[39m\u001b[39mNone\u001b[39;00m):\n\u001b[1;32m--> 315\u001b[0m     r, w, x \u001b[39m=\u001b[39m select\u001b[39m.\u001b[39;49mselect(r, w, w, timeout)\n\u001b[0;32m    316\u001b[0m     \u001b[39mreturn\u001b[39;00m r, w \u001b[39m+\u001b[39m x, []\n",
      "\u001b[1;31mKeyboardInterrupt\u001b[0m: "
     ]
    }
   ],
   "source": [
    "#SETTING UP THE SERVER OSC AND THE CLIENT\n",
    "\n",
    "if __name__ == \"__main__\":\n",
    "    #if you are the python main thread then we are going to set up the catchng and sending of OSC messages\n",
    "    #Set OSC port\n",
    "    ip = \"127.0.0.1\" #specila ip to send message only into your computer loval ip adress\n",
    "    sendPort = 57121 #check the port later \n",
    "    inPort= 8000 #check later \n",
    "    #sending osc messages \n",
    "    client = udp_client.SimpleUDPClient(ip,sendPort)\n",
    "\n",
    "    #cathces OSC messages \n",
    "    dispatcher = dispatcher.Dispatcher()\n",
    "    #now we create the message names\n",
    "    #dispatcher.map(\"/sEmg1\", sEmg1_mapping) #message name, function to call \n",
    "\n",
    "    #setting up a server\n",
    "    server = ThreadingOSCUDPServer((ip, inPort), dispatcher)\n",
    "    print(\"server is on {}.\".format(server.server_address))\n",
    "    server.serve_forever() #costantily listening for messages \n",
    "    #server.kill() "
   ]
  },
  {
   "attachments": {},
   "cell_type": "markdown",
   "metadata": {},
   "source": [
    "#### Sending the OSC"
   ]
  },
  {
   "cell_type": "code",
   "execution_count": null,
   "metadata": {},
   "outputs": [],
   "source": [
    "import time  \n",
    "\n",
    "def sEmg1_mapping(unused_addr, args, client, array1, array2):\n",
    "\n",
    "    for i in range(len(array1)):\n",
    "        client.send_message(\"/sEmg1\", array1[i])\n",
    "        client.send_message(\"/sEMg2\",array2[i])\n",
    "        print(\"sending the value 1: \" , array1[i], \", sending the value 2: \", array2[i])\n",
    "    #client.send_message(\"/sEmg_1_received\", \"value\")\n",
    "\n",
    "#mandiamo lo zcr ogni 500ms, ma devi fare delle prove, devi capire come si mappa. Uno sforzo muscolare aumenta lo zcr, quindi vediamo se lo mappiamo nelle diverse gesture come modifica il segnale. \n",
    "#se ci sono dei bei onset il risultato sarà  migliore, guarda  i grafici e fai tante prove. Da oggi devi solo fare esperimenti! esperimenti! esperiementi! Altre acquisizioni! e completare la maxPatch. \n",
    "\n",
    "# we need to set up the main python methods, dealing with the main python thread first \n",
    "\n",
    "     \n",
    "    #provare a mandare l'array signal_bicep_Dx\n",
    "      \n",
    "def send_zcr(zcr_vect,emg_vect, fs):  \n",
    "    time.sleep(2)#wait 2 secs that i have to start the audio in ableton \n",
    "    sEmg_duration = len(emg_vect)*(1/fs) #secondi\n",
    "    delta_t= sEmg_duration / len(zcr_vect)\n",
    "    \n",
    "    print('delta_t: ', delta_t, 'sEmg_duration: ', sEmg_duration)\n",
    "    for i in range(len(zcr_vect)):\n",
    "        time.sleep(delta_t) # send the zcr value every 0.2 a second, time accept values in seconds, if you divide for 1000 you obtaine ms\n",
    "        #nomalization \n",
    "        new_min = 0.2\n",
    "        new_max = 1   \n",
    "        normal_vect= (zcr_vect - np.min(zcr_vect)) * (new_max - new_min) / (np.max(zcr_vect) - np.min(zcr_vect)) + new_min\n",
    "        client.send_message(\"/raw_zcr\", normal_vect[i])\n",
    "        #client.send_message(\"/normal_BiceptDx\",left_outer_forearm_normal_normalized[i])\n",
    "        print(\"sending the zcr value: \" , normal_vect[i])\n",
    "    \n",
    "#zcr_strumming_left_outer_forearm_raw = zcr_signal(strumming_left_outer_forearm_raw)\n",
    "#send_zcr(zcr_strumming_left_outer_forearm_raw, strumming_left_outer_forearm_raw, 1000)\n",
    "\n",
    "#zcr_arpeggio_left_outer_forearm_raw = zcr_signal(arpeggio_left_outer_forearm_raw)\n",
    "#send_zcr(zcr_arpeggio_left_outer_forearm_raw, arpeggio_left_outer_forearm_raw, 1000)\n",
    "zcr_arpeggio_right_outer_forearm_raw = zcr_signal(arpeggio_right_outer_forearm_raw)\n",
    "send_zcr(zcr_arpeggio_right_outer_forearm_raw, arpeggio_right_outer_forearm_raw, 1000)\n"
   ]
  },
  {
   "cell_type": "code",
   "execution_count": 14,
   "metadata": {},
   "outputs": [
    {
     "name": "stdout",
     "output_type": "stream",
     "text": [
      "0.55\n"
     ]
    }
   ],
   "source": [
    "def normalization(vect, new_min= 0.1,new_max= 1):\n",
    "                    \"\"\"\n",
    "                    Normalize a vector to a custum range\n",
    "                    \"\"\"\n",
    "                    #vect = np.asarray(vect)\n",
    "                    old_min= 40\n",
    "                    old_max= 160\n",
    "                    normal_vect= (vect - old_min) * (new_max - new_min) / (old_max - old_min) + new_min\n",
    "                    return normal_vect #return the normalized vector\n",
    "x= normalization(100)\n",
    "\n",
    "print(x)"
   ]
  },
  {
   "attachments": {},
   "cell_type": "markdown",
   "metadata": {},
   "source": [
    "\n"
   ]
  }
 ],
 "metadata": {
  "kernelspec": {
   "display_name": "EMG",
   "language": "python",
   "name": "python3"
  },
  "language_info": {
   "codemirror_mode": {
    "name": "ipython",
    "version": 3
   },
   "file_extension": ".py",
   "mimetype": "text/x-python",
   "name": "python",
   "nbconvert_exporter": "python",
   "pygments_lexer": "ipython3",
   "version": "3.10.8"
  },
  "orig_nbformat": 4
 },
 "nbformat": 4,
 "nbformat_minor": 2
}
