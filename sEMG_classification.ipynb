{
  "cells": [
    {
      "cell_type": "markdown",
      "metadata": {
        "id": "view-in-github",
        "colab_type": "text"
      },
      "source": [
        "<a href=\"https://colab.research.google.com/github/EllDy96/MAE_Thesis/blob/main/sEMG_classification.ipynb\" target=\"_parent\"><img src=\"https://colab.research.google.com/assets/colab-badge.svg\" alt=\"Open In Colab\"/></a>"
      ]
    },
    {
      "cell_type": "markdown",
      "source": [
        "Importing the libraries and creating a connection wiht my google drive to import the Datasets."
      ],
      "metadata": {
        "id": "xsnPhsWHdQ6z"
      }
    },
    {
      "cell_type": "code",
      "execution_count": null,
      "metadata": {
        "colab": {
          "base_uri": "https://localhost:8080/"
        },
        "id": "MmqcU7j-mtnC",
        "outputId": "fdef7932-ed09-4aa2-cee8-1a2d4f9d554b"
      },
      "outputs": [
        {
          "output_type": "stream",
          "name": "stdout",
          "text": [
            "I Found a GPU! at: /device:GPU:0\n"
          ]
        },
        {
          "output_type": "stream",
          "name": "stderr",
          "text": [
            "<ipython-input-58-3ca56d057524>:26: MatplotlibDeprecationWarning: The seaborn styles shipped by Matplotlib are deprecated since 3.6, as they no longer correspond to the styles shipped by seaborn. However, they will remain available as 'seaborn-v0_8-<style>'. Alternatively, directly use the seaborn API instead.\n",
            "  plt.style.use('seaborn')\n"
          ]
        },
        {
          "output_type": "stream",
          "name": "stdout",
          "text": [
            "Drive already mounted at /content/drive; to attempt to forcibly remount, call drive.mount(\"/content/drive\", force_remount=True).\n"
          ]
        }
      ],
      "source": [
        "#!pip install tensorflow==2.12.0\n",
        "import tensorflow as tf\n",
        "device_name = tf.test.gpu_device_name()\n",
        "if device_name != '/device:GPU:0':\n",
        "  print('GPU device not found')\n",
        "  #raise SystemError('GPU device not found')    \n",
        "else:\n",
        "  print('I Found a GPU! at: {}'.format(device_name))\n",
        "import numpy as np\n",
        "import matplotlib.pyplot as plt\n",
        "from pathlib import Path\n",
        "import sklearn\n",
        "import pandas as pd\n",
        "from tensorflow import keras\n",
        "from keras import layers\n",
        "from keras.models import Sequential\n",
        "from keras.layers import LSTM, Dense, Input, Reshape , Dropout\n",
        "from sklearn import preprocessing\n",
        "from keras.regularizers import l1\n",
        "from sklearn.model_selection import train_test_split\n",
        "from sklearn.preprocessing import LabelEncoder\n",
        "from sklearn.preprocessing import MinMaxScaler\n",
        "from keras.utils import np_utils\n",
        "from sklearn.model_selection import cross_val_score\n",
        "from sklearn.model_selection import KFold\n",
        "plt.style.use('seaborn')\n",
        "\n",
        "from google.colab import drive\n",
        "drive.mount('/content/drive') # now I can import files from my Drive"
      ]
    },
    {
      "cell_type": "markdown",
      "source": [
        "\n"
      ],
      "metadata": {
        "id": "AvxS_SoDdLQ8"
      }
    },
    {
      "cell_type": "code",
      "execution_count": null,
      "metadata": {
        "id": "5eaVabSiRacZ"
      },
      "outputs": [],
      "source": [
        "#!nvidia-smi # it list the availabe GPUs"
      ]
    },
    {
      "cell_type": "markdown",
      "metadata": {
        "id": "0GDXV9Av3Z4R"
      },
      "source": [
        "# Better to use a LSTM \n",
        "We want to track a time series input data, better handle by LSTM Recurrent NN. Now let's try to implment it \n",
        "First, I need to define your LSTM model architecture using Keras. The architecture can be defined using the Sequential API in Keras. \n",
        "\n",
        "In my case I have an 8  input channel, each linked to a specific sEMG stream coming from a specific muscle.In DL the column of the training set are called features, hence I have 8 feautures. \n",
        "To enable the LSTM network to keep track of the different activation amounts between the eight channels we need to define a input Dense layer whit shape (num_smaple, 8). We feed each of the 8 neurons whit a specific channel. Then we add a LSTM with 64 neurons and a final Dense layer with 5 neurons and a sigmoid activation function to span the result from 0 to one. the sigmoid function maps any real-valued number to a value between 0 and 1, it is a commonly used nonlinear activation function in neural networks. It is defined as:\n",
        "\n",
        "![image.png](data:image/png;base64,iVBORw0KGgoAAAANSUhEUgAAAMQAAABOCAYAAAB/jbnVAAAL7UlEQVR4Xu1ceVgUVxL/RSWtgIGBcAgehACy4wUq67HeZ9YzHkQENB6JJOyKsmpcJRrj55HEGM9V8YoiEpSIip9Zb6Mmmk++9YhIuLyAIIKgoiI4gvvAGQ5lphvooXucmj+h+r16v6pfv6pX9fqNfgNGPwf9CAFCoBSBN4gQ5AmEQDkCRAjyBkKgAgJECHIHQoAIQT5ACFSNAO0Q5BmEAO0Q5AOEAO0Q5AOEAC8CFDLxQkQCxoQAEcKYrE1r5UWACMELEQkYEwJECGOyNq2VFwEiBC9EJGBMCBAhjMnatFZeBIgQvBCRgDEhQIQwJmvTWnkRIELwQkQCxoQAEcKYrE1r5UWACMELEQkYEwJECGOytphr5Zzh3uxPJKQUijmq5GMRISQ3gWEpYG7rBmVHL/TopoRp/A4sDE8wrAXwaEuEeK3Mqc/FuGLUZz7wsCjE/cwiKJzfxtP/bSdC6BNyvrHtuvhhQq8CHFy6B3F8wrz/74rJX3REXswWRF18zCtNAhUQaDUG8z/yAIgQ0rmFXc9JCBxqg6TtK7Hzijhxq92ATzBtoAXiw9cinEgh3LhECOFY6UOSazMGsya0xZNTq7A8JkvEKTi08Z+O8Z7ApW3iEU1EBeU5FBFCQrtw7TFxnjeU+b9h/ZL9uC62Klwr+M/xR7viSwj7ehdE2nzE1lJe4xEhpLOH0n8OJneoj7iIZfg+VpxQ6eXVcD0/wpfvv4v81zAm1ovliBB6gZV/UOuBCJ7bC01zY/GfxdHi7w5lGrTDh4t80LZRBk4sWYODOfyqGbUEEUIa8zt/MBP/6GKNjJPfsNzhnl6V0MyVcy4US3bf1OtcBj84EUIKE6rf2ma38fOi1Tig77e22sgWDy5hy4JdiJdiyYYyJxFCAkvVuYOy5H2xN1qb3sXZFcuxJ1WCNRvKlESIGlqKs8S77Tzgam1SaQDOuikcLcv/psq6iJjdsbhTQcpqWBBCejeBKvEA/r3hrDAFzN0wyHcIvFqY4VnGOezafAxlrTatRmK2T2OcnbcdZ6ocjcPA4AUY0BxIPbwAqw7pJ4EXthB5S3GefpgzvjVwMRwLwq7KW9lqaqen1g0zuA/2hXdPJ1ia1BOgUhbOLFuBfRnlot0+WYgRLU1wL3YrFkUk849h3wdTp/eHE1cuWnwvHnu37sbZbBf4zR6Ld1LC2Vjae2/ajJ+LCZ6N8fA1NDQ/gPwS/YOW4r13qpK7hUPBG3CUfwjZS+iBELboP/VTDHBuiHooQmFOFtLvF6AR2xXs2a5QSo/H2biW+agMnPyUY/jh0HWUv5ObYdTcQHS1AW7+dw7WHOHDUYHBM2aiT5MCZKXfwcNnQCPLJrBRNIQJVCgsqg+kH8eq1Scq7UIvj9p89AxM+9vbwI2jmMFkhf8U6ObrjbZWwp/QLqlC+qkIxFBBRAwwqz2GyIRQoM/UaRjszKH4UTJ+Ct2Jk+kaN+fQdEQApvVognqqZOz9bCt+0aquO/wWfIj2FiokRc9HaNUxTvnTln0RGOyM5PWbcDSzwqCcDbpPCMAwu2RhRTfWyrH87y2AexewcWEUEgXDqYDX6PfhZV85NBTyuOp+BtJyKodnuYlHcV70CqQQbUhGVEJY9Q3AzCFO4IrZydAydjJU0TlLsLYehBmfd4cD8nBh81Ls1Bp+dkXAN0PhZsInp8uArC3DNwh+LpnYt3EHfntZl6oe1RCCTpqMlhkiEkJzTMoiosuRmL/t8qugCiYEywdWsHyAlzja7GaLzpMnYqTjLfzwXSQulkdnug1NhDBaImgWLh4hvMZhka8SjXQ5sRCZUs1qQQjOAQOnfIzuppewa+X+6vUmGTghlq9Y+to69IzgOXWyNtEI0dJ3NqZ4WQL58YgM2YHYKtQvS1p5cwjWcLfQH56NqxkysWuNQ/85Dp2e/ooNG4+hLH0RCqWBE0LoMklOOwKiEUJzTIrU45i74liFEyPN5E7wDglAZ3aIozWkKtNTk1QLPWViD7KuVZ9ZY+By+wA2balc02D/hEvXHrDK5ElWNYTQugZtQLrCZ/4keCnEcLVi3D61Bt/uE5L0iDEfjVERAdEI8aIr9S0UxEcjZNOr+wPHwqUQFlKZqdJw5Lt1OKzT3uVFMkF9TBoypO7ByrDLeDll4NxGIjhAids7F2H7Be0OoFlDtYqB6uE4hQPs3mLHu7X+FSD3VvYra6jZsOxF4O6ItISKR9o1G8lYnhKNEJoWapOq3q7MYf1m+6K9QsXqCutYXYH/ko/wIhmrewQFsoJRA+RlpCL77l0kXI1DYvIt3IU13Dv0xsB+rWGTcwbfLvtJZx1Cs8tl/7oOX/2YZrg+YG6DlkpPdO7VhbWiJOB76s0SbEvRCAG4s7BhHLws8lhFv/xKJte0M3wmDEFbxRMkxWxC6Cl+MpRqz45wl7Ej3HoZZ7CYOXJulUtS33hr/RxJFy4iDc7o0skJ5i8XxwtZJXUlq6Tq3JU0Yc8TdvdiIbt7IRhDWQm29J4Of4/GKLifhSJLJ9ioqtesqBziDfvfo3BCkl4uW3iMGICulpk4EsHabhTdMPgvKTh4su7CRxEJwfzC3gt+4wfBowmrD+cXsjp1A3Cm9VHw5xUcityHs9XJcjVHtDoS8NIwzMcWV0LXIirpRXHL3HMMgvw8YF0avRRDlR2PmLAf+efm+mHaV33RnDfhl5X/61BGnYeheoToHzQHtsd11Yj0t36l7wyMcnyIHFjC7s185D2+gyPro6p3UlhL9cQlhFoZc9tmcHRqBou8NNxMT0OW0DpApcWo2zGaFmp9Y3MunfDXBnE4k/DSVzNYyNBO2RwFNxOQmCXsixqakA/VaSasJfj6fdzQCMFBYdsI+Vn3UchOCwdP6oane8N4dnXxEdQLIcRSU+Okz+Ki8PkWHdlwrSfk0CMwBMNdn+L3HboT71pPVWcD1A0hzN17Y3hfT7g4mLF4oBDZ5w8idP/VF6eM7YchsKu97hVnnMe66EvlMizf/CCgAzJ3h+F03UVKZfPLmhAleUlpT5PpNeyftxmn9dWRrb6q6pDxM5YuP6wlX6kzTxZpIn0Twgye/oEY61kPf+yPRNTpW3hU+kGIQSiOruFLxbwdfMa5IXFHVGl3AaewgWl+Nu7py+5VIC1zQjBQuk/CFyNdUaC3DwBw8Jo8Cz5KFWK3fo3I16a9X7+EULJC7EQvM6QfXsvujmgOSkpqTWPx5r4a5CAlJ5H/6g+Tc8dx9HISHlh2hLe3K5JXbcMvRIiK1NU4bF7VDYO1fJ9qvvmEixFYFq7e6ms5pjwe10WIF4VKF4tXNXVs3wXmKeeQmPfq//KST+NsyY0rzccfnrIToA1HkMKS4BZKV3bE3Qo216OxPKK6OLKj8ynDYXb+EDJa+2B0ByvUL8pF7PbViKzjNnjZ7xClZmFvj1HTvdGZ+0NYG7dQj1TXR1rd578rIXRI+cjpkRDqI/Gie+lIzVWxRPgGMnNykXwhDtdqFN+YwdYWyFIfgJjbOsDkQUadhkoauxkGISqQosOT07wXfYQ5ZUlB71P0fF7Dvidhk0gopceQSd3iYvAFTEPMISrrzN4kLUyRL0prg5hjSej3WqfWIyHUO0RqVbcZ7d3YUUgSEiQ4IRLDCoazQ4ixWmMag2P3U0LYx9dwGdvmR+KKwLULKsxx7ALXl0PhmFD53ou5+xB87OOKG1HsfryBHk4QIQQ6isGIaTp2q1BYyP10QYRgY5d2BIx1x/OM23hQcofdwhbc43iciIwWdjtRpoASIWRqGKnUEkqIF/qVhJ1WaMiadB5mSpMEi40TEUJsRA18PGmb+6QHjwghvQ1IAxkhQISQkTFIFekRIEJIbwPSQEYIECFkZAxSRXoEiBDS24A0kBECRAgZGYNUkR4BIoT0NiANZIQAEUJGxiBVpEeACCG9DUgDGSFAhJCRMUgV6REgQkhvA9JARggQIWRkDFJFegSIENLbgDSQEQJECBkZg1SRHgEihPQ2IA1khAARQkbGIFWkR4AIIb0NSAMZIUCEkJExSBXpESBCSG8D0kBGCBAhZGQMUkV6BIgQ0tuANJARAkQIGRmDVJEegf8D+uHg4bjLqwkAAAAASUVORK5CYII=)\n",
        "\n"
      ]
    },
    {
      "cell_type": "markdown",
      "metadata": {
        "id": "1I2PJDZK_WSi"
      },
      "source": [
        "### Importing the sEMG pandas datasets\n"
      ]
    },
    {
      "cell_type": "markdown",
      "metadata": {
        "id": "tIwM677bIUkE"
      },
      "source": [
        " \n",
        "To define the target set, it is necessary to ensure that its first dimension matches that of the training set (the number of rows). We have a training set of shape(num_samples,1, 8), it means with 8 features each wiht dimension 1. We want to have a 5 floats outputs so we need to define a target set of num_sample rows and 5 targets (5 output features). "
      ]
    },
    {
      "cell_type": "markdown",
      "source": [
        "The training set and the target set has to have the same number of rows, in this case we select 30000 rows that rappresents 30000 time steps of 8 sample each. "
      ],
      "metadata": {
        "id": "nbhIOgkhz8h7"
      }
    },
    {
      "cell_type": "markdown",
      "source": [
        "## Target dataset"
      ],
      "metadata": {
        "id": "HGVWgwwpxYM8"
      }
    },
    {
      "cell_type": "code",
      "execution_count": null,
      "metadata": {
        "colab": {
          "base_uri": "https://localhost:8080/"
        },
        "id": "EzqZcUiRdwKy",
        "outputId": "154760f2-5fd9-4531-be0c-1bacbdf9b321"
      },
      "outputs": [
        {
          "output_type": "stream",
          "name": "stdout",
          "text": [
            "[(30000, 7), (30000, 7), (30000, 7), (30000, 7), (30000, 7), (30000, 7), (30000, 7)]\n"
          ]
        }
      ],
      "source": [
        "\n",
        "labels_encoder = LabelEncoder()\n",
        "\n",
        "\n",
        "\"\"\"\n",
        "target_labels= ['arpeggio',\n",
        "    'strumming',\n",
        "    'bending',\n",
        "    'strongPick',\n",
        "    'tapping',\n",
        "    'pullOffHammerOn',\n",
        "    'doublePick']\n",
        "labels_encoder.fit(target_labels)\n",
        "encoded_Y= labels_encoder.transform(target_labels)\n",
        "#encoded_labels = label_encoder.fit_transform(target_labels)\n",
        "\n",
        "\n",
        "target_matrix= np.asarray(np_utils.to_categorical(encoded_Y))\n",
        "print(target_matrix)\n",
        "\n",
        "for i in target_matrix:  \n",
        "  target_matrix[i]= np.tile(target_matrix[i], (30000,1))\n",
        "\n",
        "print([i.shape for i in target_matrix])\n",
        "\n",
        "#print(target_dict['arpeggio'])\n",
        "\"\"\"\n",
        "#"
      ]
    },
    {
      "cell_type": "markdown",
      "metadata": {
        "id": "2kn_GW57YbNB"
      },
      "source": [
        "## Data Preprocessing"
      ]
    },
    {
      "cell_type": "markdown",
      "source": [
        "### Training dataset packing\n",
        "\n",
        "\n",
        "Here I pack my input data to feed them to the Model during the training process. Furthemore we split the Training dataset in two part, one for the training process and one for the evalution, called Test set."
      ],
      "metadata": {
        "id": "1gqtTklKxRPT"
      }
    },
    {
      "cell_type": "code",
      "execution_count": null,
      "metadata": {
        "colab": {
          "base_uri": "https://localhost:8080/"
        },
        "id": "fSZSsOhRCq9K",
        "outputId": "a14ee58d-e01b-43b7-8ecf-e403297fc0c3"
      },
      "outputs": [
        {
          "output_type": "stream",
          "name": "stdout",
          "text": [
            "(938, 32, 8)\n",
            "(938, 32, 8)\n",
            "(938, 32, 8)\n",
            "(938, 32, 8)\n",
            "(938, 32, 8)\n",
            "(938, 32, 8)\n",
            "(938, 32, 8)\n",
            "The lenght and shapes of my training datasets = 7, [(938, 32, 8), (938, 32, 8), (938, 32, 8), (938, 32, 8), (938, 32, 8), (938, 32, 8), (938, 32, 8)]\n",
            "[[[0.22944187 0.00434439 0.03279657 ... 0.05521632 0.01900095 0.00254057]\n",
            "  [0.22881657 0.00439095 0.03276088 ... 0.06192784 0.01964212 0.00298737]\n",
            "  [0.22880115 0.00410001 0.03282519 ... 0.06687968 0.02238661 0.00304028]\n",
            "  ...\n",
            "  [0.22574795 0.00384468 0.02593165 ... 0.1170531  0.02195633 0.00435393]\n",
            "  [0.22576622 0.00356142 0.02582068 ... 0.11769301 0.02360842 0.00304497]\n",
            "  [0.22619012 0.00310938 0.02566272 ... 0.11812881 0.02175962 0.00290631]]\n",
            "\n",
            " [[0.2258071  0.00374958 0.02558419 ... 0.11837217 0.0231977  0.0030705 ]\n",
            "  [0.22656661 0.00294547 0.02578642 ... 0.11839349 0.02316243 0.00304283]\n",
            "  [0.22843483 0.00287976 0.02586466 ... 0.11830242 0.02403933 0.00244242]\n",
            "  ...\n",
            "  [0.18471654 0.00876692 0.03256814 ... 0.1207704  0.0362935  0.05029437]\n",
            "  [0.18443608 0.00876727 0.03236336 ... 0.12088788 0.03614307 0.05118363]\n",
            "  [0.18424004 0.00884564 0.0320374  ... 0.12090042 0.04027292 0.05143286]]\n",
            "\n",
            " [[0.18216831 0.00736199 0.03157481 ... 0.12090173 0.03969187 0.05045186]\n",
            "  [0.18159519 0.00738399 0.03211084 ... 0.12064583 0.04170604 0.05075187]\n",
            "  [0.18151376 0.00802813 0.03237842 ... 0.120102   0.04085329 0.05092864]\n",
            "  ...\n",
            "  [0.17175404 0.01213465 0.0305256  ... 0.10285966 0.03965872 0.06369731]\n",
            "  [0.17191802 0.01275715 0.03052883 ... 0.10286925 0.03984126 0.06409125]\n",
            "  [0.17238817 0.01285717 0.03044936 ... 0.10303608 0.03892001 0.06415491]]\n",
            "\n",
            " ...\n",
            "\n",
            " [[0.28214309 0.07204824 0.46078319 ... 0.44027953 0.38529752 0.17750144]\n",
            "  [0.28198233 0.07227694 0.46450138 ... 0.43728973 0.38575141 0.17726731]\n",
            "  [0.28201007 0.07113107 0.46631292 ... 0.43731038 0.38581264 0.17716617]\n",
            "  ...\n",
            "  [0.26776501 0.07367074 0.42881991 ... 0.3993621  0.42666117 0.18438578]\n",
            "  [0.26776502 0.07320206 0.42858212 ... 0.39873687 0.4258131  0.18363777]\n",
            "  [0.26973905 0.07277515 0.42794397 ... 0.39691795 0.42580416 0.18268161]]\n",
            "\n",
            " [[0.27049982 0.07256378 0.42740762 ... 0.39336135 0.41613079 0.18196318]\n",
            "  [0.26923684 0.07258018 0.42684369 ... 0.39333869 0.40861412 0.18124383]\n",
            "  [0.26819255 0.07187957 0.42563737 ... 0.39188811 0.40947467 0.18000252]\n",
            "  ...\n",
            "  [0.25678708 0.06468244 0.42565694 ... 0.40484568 0.4155947  0.15494013]\n",
            "  [0.25563554 0.06588529 0.42499645 ... 0.407801   0.41628339 0.15365935]\n",
            "  [0.25788193 0.06610772 0.42386525 ... 0.41051197 0.41543078 0.15502401]]\n",
            "\n",
            " [[0.2586972  0.06599858 0.42385797 ... 0.40794309 0.41389456 0.15471309]\n",
            "  [0.25678071 0.06602482 0.423645   ... 0.40392708 0.41388133 0.15396273]\n",
            "  [0.25622154 0.06740998 0.41959881 ... 0.4007552  0.4117471  0.15552414]\n",
            "  ...\n",
            "  [0.24334982 0.06569989 0.27525995 ... 0.36066596 0.42399801 0.15294094]\n",
            "  [0.24162803 0.06568965 0.27551516 ... 0.36274491 0.42262181 0.15285654]\n",
            "  [0.24003301 0.0657523  0.27560305 ... 0.36446475 0.42292129 0.15280276]]]\n",
            "mean and variance of arpeggio  = 0.241, 0.027\n",
            "mean and variance of strumming  = 0.310, 0.037\n",
            "mean and variance of bending  = 0.116, 0.032\n",
            "mean and variance of doublePick  = 0.313, 0.050\n",
            "mean and variance of strongPick  = 0.255, 0.037\n",
            "mean and variance of tapping  = 0.290, 0.032\n",
            "mean and variance of pullOffHammerOn  = 0.162, 0.028\n"
          ]
        }
      ],
      "source": [
        "\n",
        "scaler = MinMaxScaler()\n",
        "pd_dataframe= {\n",
        "    'arpeggio': pd.read_csv('/content/drive/MyDrive/Colab Notebooks/sEMG_pandas_dataset/csv_pd_dataframe/df_arpeggio_rms'),\n",
        "    'strumming': pd.read_csv('/content/drive/MyDrive/Colab Notebooks/sEMG_pandas_dataset/csv_pd_dataframe/df_strumming_rms'),\n",
        "    'bending': pd.read_csv('/content/drive/MyDrive/Colab Notebooks/sEMG_pandas_dataset/csv_pd_dataframe/df_bending_rms'),\n",
        "    'doublePick':pd.read_csv('/content/drive/MyDrive/Colab Notebooks/sEMG_pandas_dataset/csv_pd_dataframe/df_doublePick_rms'),\n",
        "    'strongPick':pd.read_csv('/content/drive/MyDrive/Colab Notebooks/sEMG_pandas_dataset/csv_pd_dataframe/df_strongPick_rms'),\n",
        "    'tapping':pd.read_csv('/content/drive/MyDrive/Colab Notebooks/sEMG_pandas_dataset/csv_pd_dataframe/df_tapping_rms'),\n",
        "    'pullOffHammerOn': pd.read_csv('/content/drive/MyDrive/Colab Notebooks/sEMG_pandas_dataset/csv_pd_dataframe/df_pullOffHammerOn_rms')\n",
        "}\n",
        "\n",
        "for i in pd_dataframe:\n",
        "  #remamber: the training set has to look like (samples, time_steps, features)\n",
        "  #now we have to group the input data to create a 2D matrix of shape (time_steps, features) \n",
        "  pd_dataframe[i]= pd_dataframe[i].iloc[5000:35031].values # excluding the first and the last 5 second of samples\n",
        "  pd_dataframe[i] = scaler.fit_transform(pd_dataframe[i])\n",
        "  # Define the sequence length\n",
        "  # Define the sequence length\n",
        "  sequence_length = 32\n",
        "\n",
        "  # Calculate the number of groups\n",
        "  num_groups = pd_dataframe[i].shape[0] // sequence_length\n",
        "\n",
        "  # Calculate the number of remaining elements\n",
        "  num_remaining = pd_dataframe[i].shape[0] % sequence_length\n",
        "\n",
        "  # Reshape the input data into a 3D matrix\n",
        "  input_sequences = np.reshape(pd_dataframe[i][:num_groups * sequence_length], (num_groups, sequence_length, pd_dataframe[i].shape[1]))\n",
        "  pd_dataframe[i] = input_sequences     \n",
        "\n",
        "\n",
        "  # The shape of 'input_sequences' will be (num_groups + 1, sequence_length, num_features)\n",
        "  print(input_sequences.shape)\n",
        "\n",
        "  #pd_dataframe[i]= np.reshape(pd_dataframe[i],(pd_dataframe[i].shape[0], 1, pd_dataframe[i].shape[1]))\n",
        "print('The lenght and shapes of my training datasets = {}, {}'.format(len(pd_dataframe), [pd_dataframe[key].shape for key in pd_dataframe]))\n",
        "\n",
        "print(pd_dataframe['arpeggio'])\n",
        "\n",
        "#shaping all the pd dataset to a (30000, 8)\n",
        "\n",
        "#Printing some statistics \n",
        "for i in pd_dataframe.keys():\n",
        "  print('mean and variance of', i ,' = {:.3f}, {:.3f}'.format(np.mean(pd_dataframe[i]), np.var(pd_dataframe[i])))\n"
      ]
    },
    {
      "cell_type": "code",
      "source": [
        "#completare con valori sensati\n",
        "target_dict = {\n",
        "    'arpeggio': [1, 0, 0, 0, 0, 0, 0] ,\n",
        "    'strumming': [0, 1, 0, 0, 0, 0, 0],\n",
        "    'bending': [0, 0, 1, 0, 0, 0, 0],\n",
        "    'strongPick': [0, 0, 0, 1, 0, 0, 0],\n",
        "    'tapping': [0, 0, 0, 0, 1, 0, 0],\n",
        "    'pullOffHammerOn': [0, 0, 0, 0, 0, 1, 0],\n",
        "    'doublePick': [0, 0, 0, 0, 0, 0, 1],\n",
        "}\n",
        "#populate the dictionaty with the right shapes before using them as target set\n",
        "#i have to create a target set with same rows as the  number of samples of the training set\n",
        "for i in target_dict:  \n",
        "  target_dict[i]= np.tile(target_dict[i], (938,1))\n",
        "\n",
        "print([i.shape for i in  target_dict.values()])"
      ],
      "metadata": {
        "colab": {
          "base_uri": "https://localhost:8080/"
        },
        "id": "A0bv4G1rSvFI",
        "outputId": "e9b65546-51b4-4d8d-d1d4-6f5ffe83a4a3"
      },
      "execution_count": null,
      "outputs": [
        {
          "output_type": "stream",
          "name": "stdout",
          "text": [
            "[(938, 7), (938, 7), (938, 7), (938, 7), (938, 7), (938, 7), (938, 7)]\n"
          ]
        }
      ]
    },
    {
      "cell_type": "markdown",
      "source": [],
      "metadata": {
        "id": "jZF-98R1pllD"
      }
    },
    {
      "cell_type": "code",
      "source": [
        "\n",
        "concatenated_training_datasets= np.concatenate(([pd_dataframe[key] for key in pd_dataframe.keys()]),axis=0)\n",
        "#print(x_train.shape)\n",
        "concatenated_target_datasets= np.concatenate(([target_dict[key] for key in target_dict.keys()]), axis= 0)\n",
        "#print(y_train.shape)\n",
        "#splitting the dataset into a training and testing dataset\n",
        "\n",
        "X_train, X_test, Y_train, Y_test = train_test_split(concatenated_training_datasets, concatenated_target_datasets, test_size=0.2, random_state=42)\n",
        "print(X_train.shape, X_test.shape, Y_train.shape, Y_test.shape)"
      ],
      "metadata": {
        "id": "p1NGW1SMpjka",
        "colab": {
          "base_uri": "https://localhost:8080/",
          "height": 240
        },
        "outputId": "55a19d5b-9511-45be-c04b-077253e794b8"
      },
      "execution_count": null,
      "outputs": [
        {
          "output_type": "error",
          "ename": "NameError",
          "evalue": "ignored",
          "traceback": [
            "\u001b[0;31m---------------------------------------------------------------------------\u001b[0m",
            "\u001b[0;31mNameError\u001b[0m                                 Traceback (most recent call last)",
            "\u001b[0;32m<ipython-input-1-a52e6e79a2f5>\u001b[0m in \u001b[0;36m<cell line: 9>\u001b[0;34m()\u001b[0m\n\u001b[1;32m      7\u001b[0m              (pd_dataframe['pullOffHammerOn'], target_dict['pullOffHammerOn'])]\n\u001b[1;32m      8\u001b[0m \"\"\"\n\u001b[0;32m----> 9\u001b[0;31m \u001b[0mconcatenated_training_datasets\u001b[0m\u001b[0;34m=\u001b[0m \u001b[0mnp\u001b[0m\u001b[0;34m.\u001b[0m\u001b[0mconcatenate\u001b[0m\u001b[0;34m(\u001b[0m\u001b[0;34m(\u001b[0m\u001b[0;34m[\u001b[0m\u001b[0mpd_dataframe\u001b[0m\u001b[0;34m[\u001b[0m\u001b[0mkey\u001b[0m\u001b[0;34m]\u001b[0m \u001b[0;32mfor\u001b[0m \u001b[0mkey\u001b[0m \u001b[0;32min\u001b[0m \u001b[0mpd_dataframe\u001b[0m\u001b[0;34m.\u001b[0m\u001b[0mkeys\u001b[0m\u001b[0;34m(\u001b[0m\u001b[0;34m)\u001b[0m\u001b[0;34m]\u001b[0m\u001b[0;34m)\u001b[0m\u001b[0;34m,\u001b[0m\u001b[0maxis\u001b[0m\u001b[0;34m=\u001b[0m\u001b[0;36m0\u001b[0m\u001b[0;34m)\u001b[0m\u001b[0;34m\u001b[0m\u001b[0;34m\u001b[0m\u001b[0m\n\u001b[0m\u001b[1;32m     10\u001b[0m \u001b[0;31m#print(x_train.shape)\u001b[0m\u001b[0;34m\u001b[0m\u001b[0;34m\u001b[0m\u001b[0m\n\u001b[1;32m     11\u001b[0m \u001b[0mconcatenated_target_datasets\u001b[0m\u001b[0;34m=\u001b[0m \u001b[0mnp\u001b[0m\u001b[0;34m.\u001b[0m\u001b[0mconcatenate\u001b[0m\u001b[0;34m(\u001b[0m\u001b[0;34m(\u001b[0m\u001b[0;34m[\u001b[0m\u001b[0mtarget_dict\u001b[0m\u001b[0;34m[\u001b[0m\u001b[0mkey\u001b[0m\u001b[0;34m]\u001b[0m \u001b[0;32mfor\u001b[0m \u001b[0mkey\u001b[0m \u001b[0;32min\u001b[0m \u001b[0mtarget_dict\u001b[0m\u001b[0;34m.\u001b[0m\u001b[0mkeys\u001b[0m\u001b[0;34m(\u001b[0m\u001b[0;34m)\u001b[0m\u001b[0;34m]\u001b[0m\u001b[0;34m)\u001b[0m\u001b[0;34m,\u001b[0m \u001b[0maxis\u001b[0m\u001b[0;34m=\u001b[0m \u001b[0;36m0\u001b[0m\u001b[0;34m)\u001b[0m\u001b[0;34m\u001b[0m\u001b[0;34m\u001b[0m\u001b[0m\n",
            "\u001b[0;31mNameError\u001b[0m: name 'np' is not defined"
          ]
        }
      ]
    },
    {
      "cell_type": "markdown",
      "source": [
        "It does not have any senso to put as a imput layer a dense layer. it distracts the LSTM from the time-series analysis, the input layer before the lstm is usualy used when you have a higher values of input features, and you want to do some inference before classify the time series data. The input dense of CNN layer is used to reduce the number of features (parameters) before feed the LSTM. In this case we do not need to use a input dense layer because the number of features is low. We can use it after the LSTM if it encrease the performance. "
      ],
      "metadata": {
        "id": "TOu13Y0rsjjB"
      }
    },
    {
      "cell_type": "code",
      "execution_count": null,
      "metadata": {
        "id": "83RPKjCW3wck",
        "colab": {
          "base_uri": "https://localhost:8080/"
        },
        "outputId": "36d5567a-037c-430a-81bd-bad06e8bbbb7"
      },
      "outputs": [
        {
          "output_type": "stream",
          "name": "stdout",
          "text": [
            "The output shape:  (None, 7)\n",
            "Model: \"sequential_2\"\n",
            "_________________________________________________________________\n",
            " Layer (type)                Output Shape              Param #   \n",
            "=================================================================\n",
            " lstm_2 (LSTM)               (None, 32, 64)            18688     \n",
            "                                                                 \n",
            " dropout_2 (Dropout)         (None, 32, 64)            0         \n",
            "                                                                 \n",
            " lstm_3 (LSTM)               (None, 64)                33024     \n",
            "                                                                 \n",
            " dense_2 (Dense)             (None, 7)                 455       \n",
            "                                                                 \n",
            "=================================================================\n",
            "Total params: 52,167\n",
            "Trainable params: 52,167\n",
            "Non-trainable params: 0\n",
            "_________________________________________________________________\n"
          ]
        }
      ],
      "source": [
        "\n",
        "\n",
        "time_steps =32 #we feed the model with 32 consecuitive samples to  discover the pattern \n",
        "n_features =8 # we have 8 sEMG sample for each  new input sample it means 8 features  for each sample \n",
        "\n",
        "input_shape= (time_steps, n_features)# each sample of new data is rappresented by 8 time steps in our dataset and each time step has feauture shape of 1\n",
        "#n_features is the number of features or variables at each time step.\n",
        "\n",
        "model = Sequential()\n",
        "#By setting the input shape to (8, 1), you are specifying that each sample consists of 8 time steps, each time step consisting of a single feature\n",
        "# Add an input dense layer with 8 neurons, one for each column in the input dataset\n",
        "\n",
        "\n",
        "# Add an LSTM layer with 64 units\n",
        "model.add(LSTM(64, input_shape= input_shape ,return_sequences=True, kernel_regularizer=l1(0.1))) # when you want to stack multiple LSTM \n",
        "#you have to set the return_sequences=True to not have shape problems. \n",
        "\n",
        "model.add(Dropout(0.3))  # add a dropout layer with dropout rate of 0.2\n",
        "model.add(LSTM(32, return_sequences=False))\n",
        "# Add a dense output layer with 5 units and linear activation\n",
        "model.add(Dense(7, activation='softmax')) #return_sequences: Boolean. Whether to return the last output in the output sequence, or the full sequence. Default: False. IT should be set true only in the output layer \n",
        "\n",
        "print('The output shape: ',model.output_shape)\n",
        "model.summary()"
      ]
    },
    {
      "cell_type": "markdown",
      "metadata": {
        "id": "fLR7VpVF5N4x"
      },
      "source": [
        "### Compiling the Model \n",
        "To compile the network (before training it) we have to choose the Optimizer and the loss function: \n",
        "\n",
        "The optimizer is the algorithm used to update the weights of the model during training, and 'adam' is a popular optimizer that adapts the learning rate of each weight based on the first and second moments of the gradients.\n",
        "\n",
        "The loss function is used to measure how well the model is performing on the training data and guides the optimization process. 'mse' stands for mean squared error, which is a common loss function used for regression problems where the goal is to minimize the difference between the predicted and actual values.\n",
        "\n",
        "Adam optimization is a stochastic gradient descent method that is based on adaptive estimation of first-order and second-order moments.\n",
        "\n",
        "Learning rate: The learning rate determines how much the model weights are updated during training. A larger learning rate can lead to faster convergence, but can also cause the model to overshoot the minimum."
      ]
    },
    {
      "cell_type": "markdown",
      "source": [
        "Showing the availables parameters of the network"
      ],
      "metadata": {
        "id": "i-S7BQANlG1r"
      }
    },
    {
      "cell_type": "code",
      "execution_count": null,
      "metadata": {
        "id": "hCajTFLg5JCl"
      },
      "outputs": [],
      "source": [
        "# Compile the model\n",
        "\n",
        "#model.compile(optimizer='adam', loss='mse', metrics=['mse'])\n",
        "\n",
        "model.compile(loss='categorical_crossentropy', optimizer='adam', metrics=['accuracy'])"
      ]
    },
    {
      "cell_type": "markdown",
      "metadata": {
        "id": "Hyg3QYog5wGb"
      },
      "source": [
        "### Training the model\n"
      ]
    },
    {
      "cell_type": "code",
      "execution_count": null,
      "metadata": {
        "colab": {
          "base_uri": "https://localhost:8080/"
        },
        "id": "8VeGmGrs5tdN",
        "outputId": "cd1747e4-beae-4423-8110-7edbbe2029c8"
      },
      "outputs": [
        {
          "output_type": "stream",
          "name": "stdout",
          "text": [
            "Epoch 1/200\n",
            "788/788 [==============================] - 6s 8ms/step - loss: 0.4156 - accuracy: 0.9317 - val_loss: 0.4204 - val_accuracy: 0.9375\n",
            "Epoch 2/200\n",
            "788/788 [==============================] - 7s 9ms/step - loss: 0.3784 - accuracy: 0.9429 - val_loss: 0.4413 - val_accuracy: 0.9193\n",
            "Epoch 3/200\n",
            "788/788 [==============================] - 6s 7ms/step - loss: 0.4486 - accuracy: 0.9238 - val_loss: 0.6485 - val_accuracy: 0.8728\n",
            "Epoch 4/200\n",
            "788/788 [==============================] - 7s 9ms/step - loss: 0.3983 - accuracy: 0.9322 - val_loss: 0.5744 - val_accuracy: 0.8804\n",
            "Epoch 5/200\n",
            "788/788 [==============================] - 6s 7ms/step - loss: 0.4860 - accuracy: 0.9208 - val_loss: 0.4392 - val_accuracy: 0.9330\n",
            "Epoch 6/200\n",
            "788/788 [==============================] - 7s 9ms/step - loss: 0.4087 - accuracy: 0.9345 - val_loss: 0.4343 - val_accuracy: 0.9330\n",
            "Epoch 7/200\n",
            "788/788 [==============================] - 6s 8ms/step - loss: 0.3834 - accuracy: 0.9426 - val_loss: 0.4220 - val_accuracy: 0.9292\n",
            "Epoch 8/200\n",
            "788/788 [==============================] - 7s 9ms/step - loss: 0.4086 - accuracy: 0.9297 - val_loss: 0.5139 - val_accuracy: 0.8987\n",
            "Epoch 9/200\n",
            "788/788 [==============================] - 6s 7ms/step - loss: 0.3930 - accuracy: 0.9363 - val_loss: 0.4360 - val_accuracy: 0.9238\n",
            "Epoch 10/200\n",
            "788/788 [==============================] - 7s 9ms/step - loss: 0.4090 - accuracy: 0.9309 - val_loss: 0.4467 - val_accuracy: 0.9246\n",
            "Epoch 11/200\n",
            "788/788 [==============================] - 6s 8ms/step - loss: 0.4300 - accuracy: 0.9287 - val_loss: 0.4912 - val_accuracy: 0.8995\n",
            "Epoch 12/200\n",
            "788/788 [==============================] - 7s 9ms/step - loss: 0.4134 - accuracy: 0.9322 - val_loss: 0.4748 - val_accuracy: 0.9139\n",
            "Epoch 13/200\n",
            "788/788 [==============================] - 6s 8ms/step - loss: 0.3776 - accuracy: 0.9393 - val_loss: 0.5329 - val_accuracy: 0.8972\n",
            "Epoch 14/200\n",
            "788/788 [==============================] - 7s 8ms/step - loss: 0.3675 - accuracy: 0.9467 - val_loss: 0.4318 - val_accuracy: 0.9231\n",
            "Epoch 15/200\n",
            "788/788 [==============================] - 6s 8ms/step - loss: 0.4325 - accuracy: 0.9261 - val_loss: 0.4496 - val_accuracy: 0.9216\n",
            "Epoch 16/200\n",
            "788/788 [==============================] - 6s 8ms/step - loss: 0.3994 - accuracy: 0.9312 - val_loss: 0.4343 - val_accuracy: 0.9269\n",
            "Epoch 17/200\n",
            "788/788 [==============================] - 6s 8ms/step - loss: 0.4214 - accuracy: 0.9284 - val_loss: 0.5967 - val_accuracy: 0.8789\n",
            "Epoch 18/200\n",
            "788/788 [==============================] - 6s 8ms/step - loss: 0.4170 - accuracy: 0.9297 - val_loss: 0.4817 - val_accuracy: 0.9094\n",
            "Epoch 19/200\n",
            "788/788 [==============================] - 8s 10ms/step - loss: 0.3776 - accuracy: 0.9406 - val_loss: 0.5225 - val_accuracy: 0.9040\n",
            "Epoch 20/200\n",
            "788/788 [==============================] - 6s 8ms/step - loss: 0.4358 - accuracy: 0.9236 - val_loss: 0.4680 - val_accuracy: 0.9132\n",
            "Epoch 21/200\n",
            "788/788 [==============================] - 8s 10ms/step - loss: 0.3806 - accuracy: 0.9426 - val_loss: 0.5152 - val_accuracy: 0.9109\n",
            "Epoch 22/200\n",
            "788/788 [==============================] - 9s 12ms/step - loss: 0.4171 - accuracy: 0.9297 - val_loss: 0.4581 - val_accuracy: 0.9132\n",
            "Epoch 23/200\n",
            "788/788 [==============================] - 7s 8ms/step - loss: 0.3788 - accuracy: 0.9388 - val_loss: 0.4586 - val_accuracy: 0.9170\n",
            "Epoch 24/200\n",
            "788/788 [==============================] - 8s 10ms/step - loss: 0.3900 - accuracy: 0.9396 - val_loss: 0.4288 - val_accuracy: 0.9276\n",
            "Epoch 25/200\n",
            "788/788 [==============================] - 6s 8ms/step - loss: 0.3992 - accuracy: 0.9381 - val_loss: 0.4218 - val_accuracy: 0.9223\n",
            "Epoch 26/200\n",
            "788/788 [==============================] - 7s 9ms/step - loss: 0.4205 - accuracy: 0.9304 - val_loss: 0.6142 - val_accuracy: 0.8759\n",
            "Epoch 27/200\n",
            "788/788 [==============================] - 6s 8ms/step - loss: 0.4286 - accuracy: 0.9370 - val_loss: 0.4957 - val_accuracy: 0.9185\n",
            "Epoch 28/200\n",
            "788/788 [==============================] - 7s 9ms/step - loss: 0.3803 - accuracy: 0.9419 - val_loss: 0.5864 - val_accuracy: 0.8759\n",
            "Epoch 29/200\n",
            "788/788 [==============================] - 6s 8ms/step - loss: 0.3883 - accuracy: 0.9388 - val_loss: 0.4547 - val_accuracy: 0.9094\n",
            "Epoch 30/200\n",
            "788/788 [==============================] - 11s 14ms/step - loss: 0.3987 - accuracy: 0.9363 - val_loss: 0.4362 - val_accuracy: 0.9284\n",
            "Epoch 31/200\n",
            "788/788 [==============================] - 9s 11ms/step - loss: 0.3862 - accuracy: 0.9406 - val_loss: 0.4793 - val_accuracy: 0.9109\n",
            "Epoch 32/200\n",
            "788/788 [==============================] - 6s 8ms/step - loss: 0.4508 - accuracy: 0.9218 - val_loss: 0.5640 - val_accuracy: 0.8835\n",
            "Epoch 33/200\n",
            "788/788 [==============================] - 7s 9ms/step - loss: 0.3798 - accuracy: 0.9391 - val_loss: 0.5261 - val_accuracy: 0.8903\n",
            "Epoch 34/200\n",
            "788/788 [==============================] - 6s 7ms/step - loss: 0.4216 - accuracy: 0.9287 - val_loss: 0.4644 - val_accuracy: 0.9132\n",
            "Epoch 35/200\n",
            "788/788 [==============================] - 7s 8ms/step - loss: 0.3727 - accuracy: 0.9477 - val_loss: 0.4295 - val_accuracy: 0.9330\n",
            "Epoch 36/200\n",
            "788/788 [==============================] - 6s 8ms/step - loss: 0.4102 - accuracy: 0.9345 - val_loss: 0.5309 - val_accuracy: 0.9056\n",
            "Epoch 37/200\n",
            "788/788 [==============================] - 7s 8ms/step - loss: 0.4195 - accuracy: 0.9315 - val_loss: 1.9948 - val_accuracy: 0.6519\n",
            "Epoch 38/200\n",
            "788/788 [==============================] - 6s 8ms/step - loss: 0.4758 - accuracy: 0.9172 - val_loss: 0.4659 - val_accuracy: 0.9193\n",
            "Epoch 39/200\n",
            "788/788 [==============================] - 7s 8ms/step - loss: 0.3961 - accuracy: 0.9386 - val_loss: 0.5767 - val_accuracy: 0.8751\n",
            "Epoch 40/200\n",
            "788/788 [==============================] - 7s 8ms/step - loss: 0.3776 - accuracy: 0.9388 - val_loss: 0.4762 - val_accuracy: 0.9200\n",
            "Epoch 41/200\n",
            "788/788 [==============================] - 6s 8ms/step - loss: 0.4061 - accuracy: 0.9337 - val_loss: 0.4559 - val_accuracy: 0.9147\n",
            "Epoch 42/200\n",
            "788/788 [==============================] - 7s 9ms/step - loss: 0.4366 - accuracy: 0.9205 - val_loss: 0.5011 - val_accuracy: 0.9170\n",
            "Epoch 43/200\n",
            "788/788 [==============================] - 6s 8ms/step - loss: 0.3628 - accuracy: 0.9447 - val_loss: 0.4932 - val_accuracy: 0.9101\n",
            "Epoch 44/200\n",
            "788/788 [==============================] - 7s 9ms/step - loss: 0.3697 - accuracy: 0.9436 - val_loss: 0.5164 - val_accuracy: 0.9086\n",
            "Epoch 45/200\n",
            "788/788 [==============================] - 6s 8ms/step - loss: 0.4036 - accuracy: 0.9335 - val_loss: 0.4686 - val_accuracy: 0.9147\n",
            "Epoch 46/200\n",
            "788/788 [==============================] - 8s 10ms/step - loss: 0.4030 - accuracy: 0.9360 - val_loss: 0.4927 - val_accuracy: 0.9086\n",
            "Epoch 47/200\n",
            "788/788 [==============================] - 7s 9ms/step - loss: 0.3882 - accuracy: 0.9419 - val_loss: 0.4816 - val_accuracy: 0.9155\n",
            "Epoch 48/200\n",
            "788/788 [==============================] - 7s 9ms/step - loss: 0.3800 - accuracy: 0.9480 - val_loss: 0.4774 - val_accuracy: 0.9139\n",
            "Epoch 49/200\n",
            "788/788 [==============================] - 8s 10ms/step - loss: 0.3948 - accuracy: 0.9393 - val_loss: 0.4329 - val_accuracy: 0.9238\n",
            "Epoch 50/200\n",
            "788/788 [==============================] - 7s 9ms/step - loss: 0.3981 - accuracy: 0.9342 - val_loss: 0.5486 - val_accuracy: 0.9056\n",
            "Epoch 51/200\n",
            "788/788 [==============================] - 7s 9ms/step - loss: 0.3792 - accuracy: 0.9439 - val_loss: 0.4401 - val_accuracy: 0.9269\n",
            "Epoch 52/200\n",
            "788/788 [==============================] - 6s 8ms/step - loss: 0.4163 - accuracy: 0.9355 - val_loss: 0.5121 - val_accuracy: 0.9078\n",
            "Epoch 53/200\n",
            "788/788 [==============================] - 7s 9ms/step - loss: 0.3507 - accuracy: 0.9525 - val_loss: 0.4957 - val_accuracy: 0.9155\n",
            "Epoch 54/200\n",
            "788/788 [==============================] - 6s 8ms/step - loss: 0.3792 - accuracy: 0.9434 - val_loss: 0.4568 - val_accuracy: 0.9216\n",
            "Epoch 55/200\n",
            "788/788 [==============================] - 7s 9ms/step - loss: 0.4144 - accuracy: 0.9350 - val_loss: 0.4095 - val_accuracy: 0.9337\n",
            "Epoch 56/200\n",
            "788/788 [==============================] - 6s 8ms/step - loss: 0.3662 - accuracy: 0.9454 - val_loss: 0.5453 - val_accuracy: 0.9018\n",
            "Epoch 57/200\n",
            "788/788 [==============================] - 6s 8ms/step - loss: 0.3844 - accuracy: 0.9436 - val_loss: 0.4153 - val_accuracy: 0.9299\n",
            "Epoch 58/200\n",
            "788/788 [==============================] - 6s 8ms/step - loss: 0.4075 - accuracy: 0.9335 - val_loss: 0.6547 - val_accuracy: 0.8827\n",
            "Epoch 59/200\n",
            "788/788 [==============================] - 6s 8ms/step - loss: 0.3897 - accuracy: 0.9368 - val_loss: 0.6140 - val_accuracy: 0.8812\n",
            "Epoch 60/200\n",
            "788/788 [==============================] - 7s 8ms/step - loss: 0.3750 - accuracy: 0.9431 - val_loss: 0.7508 - val_accuracy: 0.8591\n",
            "Epoch 61/200\n",
            "788/788 [==============================] - 6s 8ms/step - loss: 0.3956 - accuracy: 0.9393 - val_loss: 0.4484 - val_accuracy: 0.9284\n",
            "Epoch 62/200\n",
            "788/788 [==============================] - 7s 9ms/step - loss: 0.4233 - accuracy: 0.9337 - val_loss: 0.4494 - val_accuracy: 0.9299\n",
            "Epoch 63/200\n",
            "788/788 [==============================] - 7s 9ms/step - loss: 0.3702 - accuracy: 0.9452 - val_loss: 0.5729 - val_accuracy: 0.8842\n",
            "Epoch 64/200\n",
            "788/788 [==============================] - 7s 9ms/step - loss: 0.3927 - accuracy: 0.9386 - val_loss: 0.4637 - val_accuracy: 0.9223\n",
            "Epoch 65/200\n",
            "788/788 [==============================] - 7s 8ms/step - loss: 0.3869 - accuracy: 0.9403 - val_loss: 0.5006 - val_accuracy: 0.9117\n",
            "Epoch 66/200\n",
            "788/788 [==============================] - 7s 9ms/step - loss: 0.3791 - accuracy: 0.9447 - val_loss: 0.4331 - val_accuracy: 0.9284\n",
            "Epoch 67/200\n",
            "788/788 [==============================] - 6s 8ms/step - loss: 0.3781 - accuracy: 0.9454 - val_loss: 0.4641 - val_accuracy: 0.9231\n",
            "Epoch 68/200\n",
            "788/788 [==============================] - 7s 9ms/step - loss: 0.4051 - accuracy: 0.9368 - val_loss: 0.4495 - val_accuracy: 0.9208\n",
            "Epoch 69/200\n",
            "788/788 [==============================] - 6s 8ms/step - loss: 0.4408 - accuracy: 0.9279 - val_loss: 0.4651 - val_accuracy: 0.9193\n",
            "Epoch 70/200\n",
            "788/788 [==============================] - 7s 8ms/step - loss: 0.3687 - accuracy: 0.9439 - val_loss: 0.4226 - val_accuracy: 0.9315\n",
            "Epoch 71/200\n",
            "788/788 [==============================] - 6s 8ms/step - loss: 0.3755 - accuracy: 0.9464 - val_loss: 0.4789 - val_accuracy: 0.9155\n",
            "Epoch 72/200\n",
            "788/788 [==============================] - 7s 9ms/step - loss: 0.4557 - accuracy: 0.9228 - val_loss: 0.4445 - val_accuracy: 0.9276\n",
            "Epoch 73/200\n",
            "788/788 [==============================] - 8s 10ms/step - loss: 0.3365 - accuracy: 0.9548 - val_loss: 0.4377 - val_accuracy: 0.9307\n",
            "Epoch 74/200\n",
            "788/788 [==============================] - 8s 10ms/step - loss: 0.4285 - accuracy: 0.9279 - val_loss: 0.4764 - val_accuracy: 0.9155\n",
            "Epoch 75/200\n",
            "788/788 [==============================] - 7s 9ms/step - loss: 0.3753 - accuracy: 0.9426 - val_loss: 0.4210 - val_accuracy: 0.9269\n",
            "Epoch 76/200\n",
            "788/788 [==============================] - 7s 9ms/step - loss: 0.3808 - accuracy: 0.9424 - val_loss: 0.4708 - val_accuracy: 0.9162\n",
            "Epoch 77/200\n",
            "788/788 [==============================] - 7s 9ms/step - loss: 0.3865 - accuracy: 0.9426 - val_loss: 0.5077 - val_accuracy: 0.8995\n",
            "Epoch 78/200\n",
            "788/788 [==============================] - 6s 8ms/step - loss: 0.3895 - accuracy: 0.9419 - val_loss: 0.4366 - val_accuracy: 0.9292\n",
            "Epoch 79/200\n",
            "788/788 [==============================] - 7s 8ms/step - loss: 0.3784 - accuracy: 0.9434 - val_loss: 0.6232 - val_accuracy: 0.8713\n",
            "Epoch 80/200\n",
            "788/788 [==============================] - 6s 8ms/step - loss: 0.3925 - accuracy: 0.9434 - val_loss: 0.5951 - val_accuracy: 0.8888\n",
            "Epoch 81/200\n",
            "788/788 [==============================] - 6s 8ms/step - loss: 0.3922 - accuracy: 0.9391 - val_loss: 0.5958 - val_accuracy: 0.8842\n",
            "Epoch 82/200\n",
            "788/788 [==============================] - 6s 8ms/step - loss: 0.3818 - accuracy: 0.9406 - val_loss: 0.5556 - val_accuracy: 0.8987\n",
            "Epoch 83/200\n",
            "788/788 [==============================] - 6s 8ms/step - loss: 0.3859 - accuracy: 0.9421 - val_loss: 0.4364 - val_accuracy: 0.9307\n",
            "Epoch 84/200\n",
            "788/788 [==============================] - 7s 8ms/step - loss: 0.3801 - accuracy: 0.9462 - val_loss: 0.5608 - val_accuracy: 0.8896\n",
            "Epoch 85/200\n",
            "788/788 [==============================] - 6s 8ms/step - loss: 0.3753 - accuracy: 0.9480 - val_loss: 0.4469 - val_accuracy: 0.9292\n",
            "Epoch 86/200\n",
            "788/788 [==============================] - 7s 9ms/step - loss: 0.4136 - accuracy: 0.9320 - val_loss: 0.5826 - val_accuracy: 0.8873\n",
            "Epoch 87/200\n",
            "788/788 [==============================] - 6s 7ms/step - loss: 0.3782 - accuracy: 0.9464 - val_loss: 0.5205 - val_accuracy: 0.8987\n",
            "Epoch 88/200\n",
            "788/788 [==============================] - 7s 9ms/step - loss: 0.4195 - accuracy: 0.9358 - val_loss: 0.4900 - val_accuracy: 0.9200\n",
            "Epoch 89/200\n",
            "788/788 [==============================] - 6s 8ms/step - loss: 0.3651 - accuracy: 0.9540 - val_loss: 0.4267 - val_accuracy: 0.9315\n",
            "Epoch 90/200\n",
            "788/788 [==============================] - 7s 9ms/step - loss: 0.3784 - accuracy: 0.9431 - val_loss: 0.4855 - val_accuracy: 0.9117\n",
            "Epoch 91/200\n",
            "788/788 [==============================] - 6s 8ms/step - loss: 0.4005 - accuracy: 0.9375 - val_loss: 0.4156 - val_accuracy: 0.9299\n",
            "Epoch 92/200\n",
            "788/788 [==============================] - 7s 9ms/step - loss: 0.3296 - accuracy: 0.9573 - val_loss: 0.4498 - val_accuracy: 0.9177\n",
            "Epoch 93/200\n",
            "788/788 [==============================] - 7s 8ms/step - loss: 0.4183 - accuracy: 0.9312 - val_loss: 0.6732 - val_accuracy: 0.8789\n",
            "Epoch 94/200\n",
            "788/788 [==============================] - 7s 9ms/step - loss: 0.3772 - accuracy: 0.9424 - val_loss: 0.5138 - val_accuracy: 0.9002\n",
            "Epoch 95/200\n",
            "788/788 [==============================] - 6s 8ms/step - loss: 0.3873 - accuracy: 0.9424 - val_loss: 0.5744 - val_accuracy: 0.8979\n",
            "Epoch 96/200\n",
            "788/788 [==============================] - 7s 9ms/step - loss: 0.4077 - accuracy: 0.9398 - val_loss: 0.3900 - val_accuracy: 0.9474\n",
            "Epoch 97/200\n",
            "788/788 [==============================] - 6s 8ms/step - loss: 0.3765 - accuracy: 0.9462 - val_loss: 0.4815 - val_accuracy: 0.9139\n",
            "Epoch 98/200\n",
            "788/788 [==============================] - 7s 9ms/step - loss: 0.3772 - accuracy: 0.9452 - val_loss: 0.5813 - val_accuracy: 0.8926\n",
            "Epoch 99/200\n",
            "788/788 [==============================] - 6s 8ms/step - loss: 0.3894 - accuracy: 0.9436 - val_loss: 0.4415 - val_accuracy: 0.9276\n",
            "Epoch 100/200\n",
            "788/788 [==============================] - 7s 9ms/step - loss: 0.3700 - accuracy: 0.9500 - val_loss: 0.4158 - val_accuracy: 0.9330\n",
            "Epoch 101/200\n",
            "788/788 [==============================] - 6s 8ms/step - loss: 0.3938 - accuracy: 0.9370 - val_loss: 0.4587 - val_accuracy: 0.9208\n",
            "Epoch 102/200\n",
            "788/788 [==============================] - 7s 9ms/step - loss: 0.3591 - accuracy: 0.9518 - val_loss: 0.6112 - val_accuracy: 0.8850\n",
            "Epoch 103/200\n",
            "788/788 [==============================] - 6s 8ms/step - loss: 0.4248 - accuracy: 0.9312 - val_loss: 0.4981 - val_accuracy: 0.9147\n",
            "Epoch 104/200\n",
            "788/788 [==============================] - 7s 9ms/step - loss: 0.4036 - accuracy: 0.9388 - val_loss: 0.5861 - val_accuracy: 0.8957\n",
            "Epoch 105/200\n",
            "788/788 [==============================] - 6s 8ms/step - loss: 0.3630 - accuracy: 0.9500 - val_loss: 0.5119 - val_accuracy: 0.9208\n",
            "Epoch 106/200\n",
            "788/788 [==============================] - 7s 9ms/step - loss: 0.3871 - accuracy: 0.9429 - val_loss: 0.5003 - val_accuracy: 0.9040\n",
            "Epoch 107/200\n",
            "788/788 [==============================] - 6s 8ms/step - loss: 0.3841 - accuracy: 0.9436 - val_loss: 0.5722 - val_accuracy: 0.8713\n",
            "Epoch 108/200\n",
            "788/788 [==============================] - 7s 9ms/step - loss: 0.3486 - accuracy: 0.9528 - val_loss: 0.4405 - val_accuracy: 0.9276\n",
            "Epoch 109/200\n",
            "788/788 [==============================] - 6s 8ms/step - loss: 0.3821 - accuracy: 0.9421 - val_loss: 0.5048 - val_accuracy: 0.9071\n",
            "Epoch 110/200\n",
            "788/788 [==============================] - 7s 9ms/step - loss: 0.3525 - accuracy: 0.9533 - val_loss: 0.6489 - val_accuracy: 0.8667\n",
            "Epoch 111/200\n",
            "788/788 [==============================] - 6s 8ms/step - loss: 0.4063 - accuracy: 0.9383 - val_loss: 0.4349 - val_accuracy: 0.9246\n",
            "Epoch 112/200\n",
            "788/788 [==============================] - 7s 9ms/step - loss: 0.4119 - accuracy: 0.9358 - val_loss: 0.4537 - val_accuracy: 0.9254\n",
            "Epoch 113/200\n",
            "788/788 [==============================] - 6s 8ms/step - loss: 0.3691 - accuracy: 0.9459 - val_loss: 0.5671 - val_accuracy: 0.8987\n",
            "Epoch 114/200\n",
            "788/788 [==============================] - 7s 9ms/step - loss: 0.3539 - accuracy: 0.9520 - val_loss: 0.6780 - val_accuracy: 0.8629\n",
            "Epoch 115/200\n",
            "788/788 [==============================] - 6s 8ms/step - loss: 0.3610 - accuracy: 0.9482 - val_loss: 0.4903 - val_accuracy: 0.9254\n",
            "Epoch 116/200\n",
            "788/788 [==============================] - 7s 9ms/step - loss: 0.3814 - accuracy: 0.9457 - val_loss: 0.5355 - val_accuracy: 0.9086\n",
            "Epoch 117/200\n",
            "788/788 [==============================] - 6s 8ms/step - loss: 0.3708 - accuracy: 0.9480 - val_loss: 0.4493 - val_accuracy: 0.9223\n",
            "Epoch 118/200\n",
            "788/788 [==============================] - 7s 8ms/step - loss: 0.3901 - accuracy: 0.9439 - val_loss: 0.4585 - val_accuracy: 0.9246\n",
            "Epoch 119/200\n",
            "788/788 [==============================] - 6s 8ms/step - loss: 0.3504 - accuracy: 0.9543 - val_loss: 0.7128 - val_accuracy: 0.8500\n",
            "Epoch 120/200\n",
            "788/788 [==============================] - 7s 8ms/step - loss: 0.4199 - accuracy: 0.9340 - val_loss: 0.6125 - val_accuracy: 0.8865\n",
            "Epoch 121/200\n",
            "788/788 [==============================] - 6s 8ms/step - loss: 0.3809 - accuracy: 0.9439 - val_loss: 0.5572 - val_accuracy: 0.8903\n",
            "Epoch 122/200\n",
            "788/788 [==============================] - 6s 8ms/step - loss: 0.3371 - accuracy: 0.9576 - val_loss: 0.5072 - val_accuracy: 0.9018\n",
            "Epoch 123/200\n",
            "788/788 [==============================] - 7s 9ms/step - loss: 0.3401 - accuracy: 0.9546 - val_loss: 0.5656 - val_accuracy: 0.8964\n",
            "Epoch 124/200\n",
            "788/788 [==============================] - 6s 8ms/step - loss: 0.4038 - accuracy: 0.9383 - val_loss: 0.4971 - val_accuracy: 0.9117\n",
            "Epoch 125/200\n",
            "788/788 [==============================] - 7s 8ms/step - loss: 0.4048 - accuracy: 0.9360 - val_loss: 0.5622 - val_accuracy: 0.8934\n",
            "Epoch 126/200\n",
            "788/788 [==============================] - 6s 8ms/step - loss: 0.3802 - accuracy: 0.9523 - val_loss: 0.5177 - val_accuracy: 0.9033\n",
            "Epoch 127/200\n",
            "788/788 [==============================] - 7s 9ms/step - loss: 0.3529 - accuracy: 0.9581 - val_loss: 0.5025 - val_accuracy: 0.9155\n",
            "Epoch 128/200\n",
            "788/788 [==============================] - 6s 8ms/step - loss: 0.3873 - accuracy: 0.9452 - val_loss: 1.1411 - val_accuracy: 0.7449\n",
            "Epoch 129/200\n",
            "788/788 [==============================] - 7s 9ms/step - loss: 0.3668 - accuracy: 0.9497 - val_loss: 0.6985 - val_accuracy: 0.8583\n",
            "Epoch 130/200\n",
            "788/788 [==============================] - 6s 8ms/step - loss: 0.3810 - accuracy: 0.9469 - val_loss: 0.5479 - val_accuracy: 0.8842\n",
            "Epoch 131/200\n",
            "788/788 [==============================] - 7s 9ms/step - loss: 0.3358 - accuracy: 0.9594 - val_loss: 0.5746 - val_accuracy: 0.8926\n",
            "Epoch 132/200\n",
            "788/788 [==============================] - 6s 8ms/step - loss: 0.3794 - accuracy: 0.9414 - val_loss: 0.5800 - val_accuracy: 0.8995\n",
            "Epoch 133/200\n",
            "788/788 [==============================] - 7s 9ms/step - loss: 0.3880 - accuracy: 0.9424 - val_loss: 0.4681 - val_accuracy: 0.9162\n",
            "Epoch 134/200\n",
            "788/788 [==============================] - 6s 7ms/step - loss: 0.3409 - accuracy: 0.9556 - val_loss: 0.5082 - val_accuracy: 0.8979\n",
            "Epoch 135/200\n",
            "788/788 [==============================] - 8s 10ms/step - loss: 0.4351 - accuracy: 0.9335 - val_loss: 0.4291 - val_accuracy: 0.9292\n",
            "Epoch 136/200\n",
            "788/788 [==============================] - 6s 8ms/step - loss: 0.3322 - accuracy: 0.9627 - val_loss: 0.5213 - val_accuracy: 0.9086\n",
            "Epoch 137/200\n",
            "788/788 [==============================] - 7s 9ms/step - loss: 0.3743 - accuracy: 0.9487 - val_loss: 0.4482 - val_accuracy: 0.9246\n",
            "Epoch 138/200\n",
            "788/788 [==============================] - 6s 8ms/step - loss: 0.3880 - accuracy: 0.9449 - val_loss: 0.5534 - val_accuracy: 0.8888\n",
            "Epoch 139/200\n",
            "788/788 [==============================] - 7s 9ms/step - loss: 0.3496 - accuracy: 0.9591 - val_loss: 0.4499 - val_accuracy: 0.9368\n",
            "Epoch 140/200\n",
            "788/788 [==============================] - 6s 8ms/step - loss: 0.4146 - accuracy: 0.9337 - val_loss: 0.4676 - val_accuracy: 0.9261\n",
            "Epoch 141/200\n",
            "788/788 [==============================] - 7s 9ms/step - loss: 0.3986 - accuracy: 0.9505 - val_loss: 0.4650 - val_accuracy: 0.9238\n",
            "Epoch 142/200\n",
            "788/788 [==============================] - 6s 7ms/step - loss: 0.3297 - accuracy: 0.9624 - val_loss: 0.7837 - val_accuracy: 0.8279\n",
            "Epoch 143/200\n",
            "788/788 [==============================] - 7s 9ms/step - loss: 0.4393 - accuracy: 0.9307 - val_loss: 0.5509 - val_accuracy: 0.8949\n",
            "Epoch 144/200\n",
            "788/788 [==============================] - 6s 8ms/step - loss: 0.3153 - accuracy: 0.9650 - val_loss: 0.4428 - val_accuracy: 0.9284\n",
            "Epoch 145/200\n",
            "788/788 [==============================] - 7s 9ms/step - loss: 0.3807 - accuracy: 0.9436 - val_loss: 0.4800 - val_accuracy: 0.9200\n",
            "Epoch 146/200\n",
            "788/788 [==============================] - 6s 8ms/step - loss: 0.3797 - accuracy: 0.9464 - val_loss: 0.6543 - val_accuracy: 0.8842\n",
            "Epoch 147/200\n",
            "788/788 [==============================] - 7s 9ms/step - loss: 0.3989 - accuracy: 0.9403 - val_loss: 0.5538 - val_accuracy: 0.8865\n",
            "Epoch 148/200\n",
            "788/788 [==============================] - 6s 8ms/step - loss: 0.3406 - accuracy: 0.9606 - val_loss: 0.4933 - val_accuracy: 0.9124\n",
            "Epoch 149/200\n",
            "788/788 [==============================] - 7s 9ms/step - loss: 0.3527 - accuracy: 0.9530 - val_loss: 0.4511 - val_accuracy: 0.9276\n",
            "Epoch 150/200\n",
            "788/788 [==============================] - 6s 8ms/step - loss: 0.3798 - accuracy: 0.9485 - val_loss: 0.5449 - val_accuracy: 0.8957\n",
            "Epoch 151/200\n",
            "788/788 [==============================] - 7s 9ms/step - loss: 0.3809 - accuracy: 0.9492 - val_loss: 0.4625 - val_accuracy: 0.9231\n",
            "Epoch 152/200\n",
            "788/788 [==============================] - 6s 8ms/step - loss: 0.3629 - accuracy: 0.9480 - val_loss: 0.5354 - val_accuracy: 0.9048\n",
            "Epoch 153/200\n",
            "788/788 [==============================] - 7s 9ms/step - loss: 0.3359 - accuracy: 0.9566 - val_loss: 0.4485 - val_accuracy: 0.9254\n",
            "Epoch 154/200\n",
            "788/788 [==============================] - 6s 8ms/step - loss: 0.3546 - accuracy: 0.9540 - val_loss: 0.5015 - val_accuracy: 0.9177\n",
            "Epoch 155/200\n",
            "788/788 [==============================] - 7s 9ms/step - loss: 0.3723 - accuracy: 0.9469 - val_loss: 0.4734 - val_accuracy: 0.9216\n",
            "Epoch 156/200\n",
            "788/788 [==============================] - 6s 8ms/step - loss: 0.4081 - accuracy: 0.9401 - val_loss: 0.4620 - val_accuracy: 0.9185\n",
            "Epoch 157/200\n",
            "788/788 [==============================] - 7s 9ms/step - loss: 0.3234 - accuracy: 0.9637 - val_loss: 0.4324 - val_accuracy: 0.9315\n",
            "Epoch 158/200\n",
            "788/788 [==============================] - 6s 8ms/step - loss: 0.3641 - accuracy: 0.9507 - val_loss: 0.4021 - val_accuracy: 0.9391\n",
            "Epoch 159/200\n",
            "788/788 [==============================] - 7s 8ms/step - loss: 0.3781 - accuracy: 0.9447 - val_loss: 0.4897 - val_accuracy: 0.9200\n",
            "Epoch 160/200\n",
            "788/788 [==============================] - 6s 8ms/step - loss: 0.3689 - accuracy: 0.9464 - val_loss: 0.4802 - val_accuracy: 0.9155\n",
            "Epoch 161/200\n",
            "788/788 [==============================] - 6s 8ms/step - loss: 0.3597 - accuracy: 0.9477 - val_loss: 0.5499 - val_accuracy: 0.8995\n",
            "Epoch 162/200\n",
            "788/788 [==============================] - 7s 9ms/step - loss: 0.3514 - accuracy: 0.9556 - val_loss: 0.4777 - val_accuracy: 0.9200\n",
            "Epoch 163/200\n",
            "788/788 [==============================] - 6s 8ms/step - loss: 0.3744 - accuracy: 0.9462 - val_loss: 0.4533 - val_accuracy: 0.9261\n",
            "Epoch 164/200\n",
            "788/788 [==============================] - 7s 9ms/step - loss: 0.3956 - accuracy: 0.9421 - val_loss: 0.5134 - val_accuracy: 0.9048\n",
            "Epoch 165/200\n",
            "788/788 [==============================] - 6s 8ms/step - loss: 0.3528 - accuracy: 0.9573 - val_loss: 0.4873 - val_accuracy: 0.9208\n",
            "Epoch 166/200\n",
            "788/788 [==============================] - 7s 9ms/step - loss: 0.3482 - accuracy: 0.9513 - val_loss: 0.4648 - val_accuracy: 0.9261\n",
            "Epoch 167/200\n",
            "788/788 [==============================] - 6s 8ms/step - loss: 0.4178 - accuracy: 0.9441 - val_loss: 0.5992 - val_accuracy: 0.8842\n",
            "Epoch 168/200\n",
            "788/788 [==============================] - 7s 9ms/step - loss: 0.3391 - accuracy: 0.9606 - val_loss: 0.4568 - val_accuracy: 0.9254\n",
            "Epoch 169/200\n",
            "788/788 [==============================] - 6s 8ms/step - loss: 0.3630 - accuracy: 0.9507 - val_loss: 0.6681 - val_accuracy: 0.8736\n",
            "Epoch 170/200\n",
            "788/788 [==============================] - 7s 9ms/step - loss: 0.3771 - accuracy: 0.9497 - val_loss: 0.6383 - val_accuracy: 0.8774\n",
            "Epoch 171/200\n",
            "788/788 [==============================] - 6s 8ms/step - loss: 0.3594 - accuracy: 0.9500 - val_loss: 0.5983 - val_accuracy: 0.8880\n",
            "Epoch 172/200\n",
            "788/788 [==============================] - 7s 9ms/step - loss: 0.3516 - accuracy: 0.9538 - val_loss: 0.5094 - val_accuracy: 0.9177\n",
            "Epoch 173/200\n",
            "788/788 [==============================] - 6s 8ms/step - loss: 0.3745 - accuracy: 0.9485 - val_loss: 0.4612 - val_accuracy: 0.9208\n",
            "Epoch 174/200\n",
            "788/788 [==============================] - 7s 9ms/step - loss: 0.4143 - accuracy: 0.9383 - val_loss: 0.6138 - val_accuracy: 0.8835\n",
            "Epoch 175/200\n",
            "788/788 [==============================] - 6s 8ms/step - loss: 0.3348 - accuracy: 0.9606 - val_loss: 0.4897 - val_accuracy: 0.9155\n",
            "Epoch 176/200\n",
            "788/788 [==============================] - 7s 9ms/step - loss: 0.3840 - accuracy: 0.9431 - val_loss: 0.4764 - val_accuracy: 0.9117\n",
            "Epoch 177/200\n",
            "788/788 [==============================] - 6s 8ms/step - loss: 0.3327 - accuracy: 0.9543 - val_loss: 0.5841 - val_accuracy: 0.8797\n",
            "Epoch 178/200\n",
            "788/788 [==============================] - 7s 9ms/step - loss: 0.3434 - accuracy: 0.9591 - val_loss: 0.4192 - val_accuracy: 0.9360\n",
            "Epoch 179/200\n",
            "788/788 [==============================] - 7s 8ms/step - loss: 0.4018 - accuracy: 0.9373 - val_loss: 0.4447 - val_accuracy: 0.9238\n",
            "Epoch 180/200\n",
            "788/788 [==============================] - 7s 9ms/step - loss: 0.3737 - accuracy: 0.9500 - val_loss: 0.5355 - val_accuracy: 0.9078\n",
            "Epoch 181/200\n",
            "788/788 [==============================] - 7s 8ms/step - loss: 0.3711 - accuracy: 0.9548 - val_loss: 0.4571 - val_accuracy: 0.9322\n",
            "Epoch 182/200\n",
            "788/788 [==============================] - 7s 9ms/step - loss: 0.3729 - accuracy: 0.9518 - val_loss: 0.5060 - val_accuracy: 0.9162\n",
            "Epoch 183/200\n",
            "788/788 [==============================] - 6s 8ms/step - loss: 0.3397 - accuracy: 0.9581 - val_loss: 0.5821 - val_accuracy: 0.8842\n",
            "Epoch 184/200\n",
            "788/788 [==============================] - 7s 9ms/step - loss: 0.3407 - accuracy: 0.9576 - val_loss: 0.4690 - val_accuracy: 0.9307\n",
            "Epoch 185/200\n",
            "788/788 [==============================] - 6s 8ms/step - loss: 0.3370 - accuracy: 0.9596 - val_loss: 0.4066 - val_accuracy: 0.9391\n",
            "Epoch 186/200\n",
            "788/788 [==============================] - 7s 9ms/step - loss: 0.3799 - accuracy: 0.9457 - val_loss: 0.4964 - val_accuracy: 0.9162\n",
            "Epoch 187/200\n",
            "788/788 [==============================] - 6s 8ms/step - loss: 0.3737 - accuracy: 0.9477 - val_loss: 0.5410 - val_accuracy: 0.8934\n",
            "Epoch 188/200\n",
            "788/788 [==============================] - 7s 9ms/step - loss: 0.3700 - accuracy: 0.9495 - val_loss: 0.5308 - val_accuracy: 0.9010\n",
            "Epoch 189/200\n",
            "788/788 [==============================] - 6s 8ms/step - loss: 0.5458 - accuracy: 0.9142 - val_loss: 0.5446 - val_accuracy: 0.8835\n",
            "Epoch 190/200\n",
            "788/788 [==============================] - 7s 9ms/step - loss: 0.3207 - accuracy: 0.9693 - val_loss: 0.4304 - val_accuracy: 0.9276\n",
            "Epoch 191/200\n",
            "788/788 [==============================] - 6s 8ms/step - loss: 0.3149 - accuracy: 0.9675 - val_loss: 0.6364 - val_accuracy: 0.8827\n",
            "Epoch 192/200\n",
            "788/788 [==============================] - 6s 8ms/step - loss: 0.3633 - accuracy: 0.9513 - val_loss: 0.4873 - val_accuracy: 0.9246\n",
            "Epoch 193/200\n",
            "788/788 [==============================] - 7s 9ms/step - loss: 0.3730 - accuracy: 0.9500 - val_loss: 0.4841 - val_accuracy: 0.9231\n",
            "Epoch 194/200\n",
            "788/788 [==============================] - 7s 9ms/step - loss: 0.3313 - accuracy: 0.9614 - val_loss: 0.4383 - val_accuracy: 0.9276\n",
            "Epoch 195/200\n",
            "788/788 [==============================] - 6s 8ms/step - loss: 0.3390 - accuracy: 0.9612 - val_loss: 0.4468 - val_accuracy: 0.9299\n",
            "Epoch 196/200\n",
            "788/788 [==============================] - 6s 8ms/step - loss: 0.3947 - accuracy: 0.9462 - val_loss: 0.4567 - val_accuracy: 0.9284\n",
            "Epoch 197/200\n",
            "788/788 [==============================] - 6s 8ms/step - loss: 0.3575 - accuracy: 0.9556 - val_loss: 0.4654 - val_accuracy: 0.9223\n",
            "Epoch 198/200\n",
            "788/788 [==============================] - 6s 8ms/step - loss: 0.3950 - accuracy: 0.9462 - val_loss: 0.4722 - val_accuracy: 0.9223\n",
            "Epoch 199/200\n",
            "788/788 [==============================] - 7s 9ms/step - loss: 0.3549 - accuracy: 0.9525 - val_loss: 0.5430 - val_accuracy: 0.9018\n",
            "Epoch 200/200\n",
            "788/788 [==============================] - 6s 8ms/step - loss: 0.3384 - accuracy: 0.9586 - val_loss: 0.4661 - val_accuracy: 0.9353\n"
          ]
        }
      ],
      "source": [
        "\"\"\"\n",
        "# Load data from pandas dataframe dictionary\n",
        "X_1 = pd_dataframe['arpeggio'] # Return a Numpy representation of the DataFrame. Only the values in the DataFrame will be returned, the axes labels will be removed.\n",
        "#print(type(X_1))\n",
        "X_1= tf.stack(X_1)\n",
        "y_1 = target_dict['arpeggio']\n",
        "\n",
        "X_2 = pd_dataframe['strumming'] # Return a Numpy representation of the DataFrame. Only the values in the DataFrame will be returned, the axes labels will be removed.\n",
        "print(type(X_2))\n",
        "X_2= tf.stack(X_2)\n",
        "y_2 = target_dict['strumming']\n",
        "print('output shape ', y_1.shape, ' input shape  ', X_1.shape )\n",
        "\"\"\"\n",
        "#print( [pd_dataframe[key] for key in pd_dataframe.keys()])\n",
        "\n",
        "# Fit the model with different datates each associated to a specific output target\n",
        "#create a list of datasets tuple to train the model \n",
        "history = model.fit(X_train,Y_train, validation_split=0.25, epochs=200,batch_size=5)\n",
        "\n",
        "\n",
        "\n",
        "\n",
        "\n"
      ]
    },
    {
      "cell_type": "markdown",
      "source": [
        "\n",
        "The validation_split argument in Keras fit method specifies the fraction of the training data to be used as validation data. The model will not be trained on the validation data, but rather the validation data will be used to evaluate the model's training performance over the epochs on data it has not seen before.\n",
        "\n",
        "For example, if validation_split=0.2, then 20% of the training data will be used as validation data and the remaining 80% will be used as the training data. The validation data will be used to evaluate the model's performance after each epoch during training. The validation set is a portion of the training set to evaluate the training process, instead to evaluate the network we have to use a different dataset called testing dataset."
      ],
      "metadata": {
        "id": "_AQz4ws7trsB"
      }
    },
    {
      "cell_type": "code",
      "execution_count": null,
      "metadata": {
        "colab": {
          "base_uri": "https://localhost:8080/"
        },
        "id": "fGSqdevx7_cD",
        "outputId": "6bf7a9cc-2c5f-4e8e-b9b7-f2f1285d9001"
      },
      "outputs": [
        {
          "output_type": "stream",
          "name": "stdout",
          "text": [
            "dict_keys(['loss', 'accuracy', 'val_loss', 'val_accuracy'])\n"
          ]
        }
      ],
      "source": [
        "# list all data in training history\n",
        "print(history.history.keys())\n"
      ]
    },
    {
      "cell_type": "markdown",
      "metadata": {
        "id": "Q-ycVD7Q7j_t"
      },
      "source": [
        "### Plotting the Loss function and the MSE\n",
        "We can track the training accurancy to avoid overfitting by plotting the loss function and the MSE for each epoch. The MSE is a common metric to evaluate regession task. The lower the loss, the better the model performance. The purpose of the loss function is to evaluate how well the model is learning the patterns in the data and adjusting its weights and biases to make accurate predictions. So, when you train a model, you try to minimize the loss function by adjusting the model's parameters. In other evaluation metrics, such as accuracy or F1 score, the higher the value, the better the model performance.\n",
        "Ploting the training history"
      ]
    },
    {
      "cell_type": "code",
      "execution_count": null,
      "metadata": {
        "colab": {
          "base_uri": "https://localhost:8080/",
          "height": 558
        },
        "id": "SP-_v2HHFdQ_",
        "outputId": "c0b3a94f-9e1b-46d5-8094-7051074aed82"
      },
      "outputs": [
        {
          "output_type": "stream",
          "name": "stderr",
          "text": [
            "<ipython-input-56-97c39e790045>:3: MatplotlibDeprecationWarning: Auto-removal of overlapping axes is deprecated since 3.6 and will be removed two minor releases later; explicitly call ax.remove() as needed.\n",
            "  plt.subplot(1,2,1)\n"
          ]
        },
        {
          "output_type": "execute_result",
          "data": {
            "text/plain": [
              "<matplotlib.legend.Legend at 0x7f9cfbc22620>"
            ]
          },
          "metadata": {},
          "execution_count": 56
        },
        {
          "output_type": "display_data",
          "data": {
            "text/plain": [
              "<Figure size 1600x500 with 2 Axes>"
            ],
            "image/png": "[encoded data removed]"
          },
          "metadata": {}
        }
      ],
      "source": [
        "\n",
        "plt.figure(figsize=(16,5))\n",
        "plt.title('arpeggio')\n",
        "plt.subplot(1,2,1)\n",
        "\n",
        "# summarize history for accuracy\n",
        "plt.plot(history.history['accuracy'])\n",
        "plt.plot(history.history['val_accuracy'])\n",
        "plt.title('Model accuracy')\n",
        "plt.ylabel('accuracy')\n",
        "plt.xlabel('Epoch')\n",
        "plt.legend(['Train', 'Val'], loc='upper left')\n",
        "\n",
        "plt.subplot(1,2,2)\n",
        "# summarize history for loss\n",
        "plt.plot(history.history['loss'])\n",
        "plt.plot(history.history['val_loss'])\n",
        "plt.title('Model loss')\n",
        "plt.ylabel('loss')\n",
        "plt.xlabel('epoch')\n",
        "plt.legend(['train', 'val'], loc='upper left')"
      ]
    },
    {
      "cell_type": "markdown",
      "metadata": {
        "id": "hpvwQNv__Eyb"
      },
      "source": [
        "## Model Evaluation \n",
        "Testing the model whit a testing set computing the loss function for an unseen dataset. fixare la cross validatin che non funziona "
      ]
    },
    {
      "cell_type": "code",
      "execution_count": null,
      "metadata": {
        "id": "fW3baRLk_Bad",
        "colab": {
          "base_uri": "https://localhost:8080/",
          "height": 389
        },
        "outputId": "3b3cf414-a8a0-439e-f8e1-1077765b575d"
      },
      "outputs": [
        {
          "output_type": "error",
          "ename": "ValueError",
          "evalue": "ignored",
          "traceback": [
            "\u001b[0;31m---------------------------------------------------------------------------\u001b[0m",
            "\u001b[0;31mValueError\u001b[0m                                Traceback (most recent call last)",
            "\u001b[0;32m<ipython-input-65-93c6a60beff8>\u001b[0m in \u001b[0;36m<cell line: 20>\u001b[0;34m()\u001b[0m\n\u001b[1;32m     18\u001b[0m \u001b[0;34m\u001b[0m\u001b[0m\n\u001b[1;32m     19\u001b[0m \u001b[0;31m# Perform cross-validation\u001b[0m\u001b[0;34m\u001b[0m\u001b[0;34m\u001b[0m\u001b[0m\n\u001b[0;32m---> 20\u001b[0;31m \u001b[0;32mfor\u001b[0m \u001b[0mtrain_idx\u001b[0m\u001b[0;34m,\u001b[0m \u001b[0mval_idx\u001b[0m \u001b[0;32min\u001b[0m \u001b[0mkfold\u001b[0m\u001b[0;34m.\u001b[0m\u001b[0msplit\u001b[0m\u001b[0;34m(\u001b[0m\u001b[0mX_train\u001b[0m\u001b[0;34m,\u001b[0m \u001b[0mY_train\u001b[0m\u001b[0;34m)\u001b[0m\u001b[0;34m:\u001b[0m\u001b[0;34m\u001b[0m\u001b[0;34m\u001b[0m\u001b[0m\n\u001b[0m\u001b[1;32m     21\u001b[0m     \u001b[0;31m# Split the data into training and validation sets\u001b[0m\u001b[0;34m\u001b[0m\u001b[0;34m\u001b[0m\u001b[0m\n\u001b[1;32m     22\u001b[0m     \u001b[0mx_train_1\u001b[0m\u001b[0;34m,\u001b[0m \u001b[0mx_val_1\u001b[0m \u001b[0;34m=\u001b[0m \u001b[0mX_train\u001b[0m\u001b[0;34m[\u001b[0m\u001b[0mtrain_idx\u001b[0m\u001b[0;34m]\u001b[0m\u001b[0;34m,\u001b[0m \u001b[0mX_train\u001b[0m\u001b[0;34m[\u001b[0m\u001b[0mval_idx\u001b[0m\u001b[0;34m]\u001b[0m\u001b[0;34m\u001b[0m\u001b[0;34m\u001b[0m\u001b[0m\n",
            "\u001b[0;32m/usr/local/lib/python3.10/dist-packages/sklearn/model_selection/_split.py\u001b[0m in \u001b[0;36msplit\u001b[0;34m(self, X, y, groups)\u001b[0m\n\u001b[1;32m    350\u001b[0m             )\n\u001b[1;32m    351\u001b[0m \u001b[0;34m\u001b[0m\u001b[0m\n\u001b[0;32m--> 352\u001b[0;31m         \u001b[0;32mfor\u001b[0m \u001b[0mtrain\u001b[0m\u001b[0;34m,\u001b[0m \u001b[0mtest\u001b[0m \u001b[0;32min\u001b[0m \u001b[0msuper\u001b[0m\u001b[0;34m(\u001b[0m\u001b[0;34m)\u001b[0m\u001b[0;34m.\u001b[0m\u001b[0msplit\u001b[0m\u001b[0;34m(\u001b[0m\u001b[0mX\u001b[0m\u001b[0;34m,\u001b[0m \u001b[0my\u001b[0m\u001b[0;34m,\u001b[0m \u001b[0mgroups\u001b[0m\u001b[0;34m)\u001b[0m\u001b[0;34m:\u001b[0m\u001b[0;34m\u001b[0m\u001b[0;34m\u001b[0m\u001b[0m\n\u001b[0m\u001b[1;32m    353\u001b[0m             \u001b[0;32myield\u001b[0m \u001b[0mtrain\u001b[0m\u001b[0;34m,\u001b[0m \u001b[0mtest\u001b[0m\u001b[0;34m\u001b[0m\u001b[0;34m\u001b[0m\u001b[0m\n\u001b[1;32m    354\u001b[0m \u001b[0;34m\u001b[0m\u001b[0m\n",
            "\u001b[0;32m/usr/local/lib/python3.10/dist-packages/sklearn/model_selection/_split.py\u001b[0m in \u001b[0;36msplit\u001b[0;34m(self, X, y, groups)\u001b[0m\n\u001b[1;32m     83\u001b[0m         \u001b[0mX\u001b[0m\u001b[0;34m,\u001b[0m \u001b[0my\u001b[0m\u001b[0;34m,\u001b[0m \u001b[0mgroups\u001b[0m \u001b[0;34m=\u001b[0m \u001b[0mindexable\u001b[0m\u001b[0;34m(\u001b[0m\u001b[0mX\u001b[0m\u001b[0;34m,\u001b[0m \u001b[0my\u001b[0m\u001b[0;34m,\u001b[0m \u001b[0mgroups\u001b[0m\u001b[0;34m)\u001b[0m\u001b[0;34m\u001b[0m\u001b[0;34m\u001b[0m\u001b[0m\n\u001b[1;32m     84\u001b[0m         \u001b[0mindices\u001b[0m \u001b[0;34m=\u001b[0m \u001b[0mnp\u001b[0m\u001b[0;34m.\u001b[0m\u001b[0marange\u001b[0m\u001b[0;34m(\u001b[0m\u001b[0m_num_samples\u001b[0m\u001b[0;34m(\u001b[0m\u001b[0mX\u001b[0m\u001b[0;34m)\u001b[0m\u001b[0;34m)\u001b[0m\u001b[0;34m\u001b[0m\u001b[0;34m\u001b[0m\u001b[0m\n\u001b[0;32m---> 85\u001b[0;31m         \u001b[0;32mfor\u001b[0m \u001b[0mtest_index\u001b[0m \u001b[0;32min\u001b[0m \u001b[0mself\u001b[0m\u001b[0;34m.\u001b[0m\u001b[0m_iter_test_masks\u001b[0m\u001b[0;34m(\u001b[0m\u001b[0mX\u001b[0m\u001b[0;34m,\u001b[0m \u001b[0my\u001b[0m\u001b[0;34m,\u001b[0m \u001b[0mgroups\u001b[0m\u001b[0;34m)\u001b[0m\u001b[0;34m:\u001b[0m\u001b[0;34m\u001b[0m\u001b[0;34m\u001b[0m\u001b[0m\n\u001b[0m\u001b[1;32m     86\u001b[0m             \u001b[0mtrain_index\u001b[0m \u001b[0;34m=\u001b[0m \u001b[0mindices\u001b[0m\u001b[0;34m[\u001b[0m\u001b[0mnp\u001b[0m\u001b[0;34m.\u001b[0m\u001b[0mlogical_not\u001b[0m\u001b[0;34m(\u001b[0m\u001b[0mtest_index\u001b[0m\u001b[0;34m)\u001b[0m\u001b[0;34m]\u001b[0m\u001b[0;34m\u001b[0m\u001b[0;34m\u001b[0m\u001b[0m\n\u001b[1;32m     87\u001b[0m             \u001b[0mtest_index\u001b[0m \u001b[0;34m=\u001b[0m \u001b[0mindices\u001b[0m\u001b[0;34m[\u001b[0m\u001b[0mtest_index\u001b[0m\u001b[0;34m]\u001b[0m\u001b[0;34m\u001b[0m\u001b[0;34m\u001b[0m\u001b[0m\n",
            "\u001b[0;32m/usr/local/lib/python3.10/dist-packages/sklearn/model_selection/_split.py\u001b[0m in \u001b[0;36m_iter_test_masks\u001b[0;34m(self, X, y, groups)\u001b[0m\n\u001b[1;32m    731\u001b[0m \u001b[0;34m\u001b[0m\u001b[0m\n\u001b[1;32m    732\u001b[0m     \u001b[0;32mdef\u001b[0m \u001b[0m_iter_test_masks\u001b[0m\u001b[0;34m(\u001b[0m\u001b[0mself\u001b[0m\u001b[0;34m,\u001b[0m \u001b[0mX\u001b[0m\u001b[0;34m,\u001b[0m \u001b[0my\u001b[0m\u001b[0;34m=\u001b[0m\u001b[0;32mNone\u001b[0m\u001b[0;34m,\u001b[0m \u001b[0mgroups\u001b[0m\u001b[0;34m=\u001b[0m\u001b[0;32mNone\u001b[0m\u001b[0;34m)\u001b[0m\u001b[0;34m:\u001b[0m\u001b[0;34m\u001b[0m\u001b[0;34m\u001b[0m\u001b[0m\n\u001b[0;32m--> 733\u001b[0;31m         \u001b[0mtest_folds\u001b[0m \u001b[0;34m=\u001b[0m \u001b[0mself\u001b[0m\u001b[0;34m.\u001b[0m\u001b[0m_make_test_folds\u001b[0m\u001b[0;34m(\u001b[0m\u001b[0mX\u001b[0m\u001b[0;34m,\u001b[0m \u001b[0my\u001b[0m\u001b[0;34m)\u001b[0m\u001b[0;34m\u001b[0m\u001b[0;34m\u001b[0m\u001b[0m\n\u001b[0m\u001b[1;32m    734\u001b[0m         \u001b[0;32mfor\u001b[0m \u001b[0mi\u001b[0m \u001b[0;32min\u001b[0m \u001b[0mrange\u001b[0m\u001b[0;34m(\u001b[0m\u001b[0mself\u001b[0m\u001b[0;34m.\u001b[0m\u001b[0mn_splits\u001b[0m\u001b[0;34m)\u001b[0m\u001b[0;34m:\u001b[0m\u001b[0;34m\u001b[0m\u001b[0;34m\u001b[0m\u001b[0m\n\u001b[1;32m    735\u001b[0m             \u001b[0;32myield\u001b[0m \u001b[0mtest_folds\u001b[0m \u001b[0;34m==\u001b[0m \u001b[0mi\u001b[0m\u001b[0;34m\u001b[0m\u001b[0;34m\u001b[0m\u001b[0m\n",
            "\u001b[0;32m/usr/local/lib/python3.10/dist-packages/sklearn/model_selection/_split.py\u001b[0m in \u001b[0;36m_make_test_folds\u001b[0;34m(self, X, y)\u001b[0m\n\u001b[1;32m    674\u001b[0m         \u001b[0mallowed_target_types\u001b[0m \u001b[0;34m=\u001b[0m \u001b[0;34m(\u001b[0m\u001b[0;34m\"binary\"\u001b[0m\u001b[0;34m,\u001b[0m \u001b[0;34m\"multiclass\"\u001b[0m\u001b[0;34m)\u001b[0m\u001b[0;34m\u001b[0m\u001b[0;34m\u001b[0m\u001b[0m\n\u001b[1;32m    675\u001b[0m         \u001b[0;32mif\u001b[0m \u001b[0mtype_of_target_y\u001b[0m \u001b[0;32mnot\u001b[0m \u001b[0;32min\u001b[0m \u001b[0mallowed_target_types\u001b[0m\u001b[0;34m:\u001b[0m\u001b[0;34m\u001b[0m\u001b[0;34m\u001b[0m\u001b[0m\n\u001b[0;32m--> 676\u001b[0;31m             raise ValueError(\n\u001b[0m\u001b[1;32m    677\u001b[0m                 \"Supported target types are: {}. Got {!r} instead.\".format(\n\u001b[1;32m    678\u001b[0m                     \u001b[0mallowed_target_types\u001b[0m\u001b[0;34m,\u001b[0m \u001b[0mtype_of_target_y\u001b[0m\u001b[0;34m\u001b[0m\u001b[0;34m\u001b[0m\u001b[0m\n",
            "\u001b[0;31mValueError\u001b[0m: Supported target types are: ('binary', 'multiclass'). Got 'multilabel-indicator' instead."
          ]
        }
      ],
      "source": [
        "#divide in training set e test \n",
        "#the testing dataset have to be useen data but whith a trained target set, you can use a dataset belonging to a target that you did not train. \n",
        "#in the training the network see the label, in the tasting set it see the label only at the end, but shold be data from a studied label otherwise it has no sense. \n",
        "#it has to be data belonging to one of the category which you use during the training but unseen during the training stage.\n",
        "#you have to split the training dataset to obtai a testing dataset \n",
        "\n",
        "## Model evaluation \n",
        "from sklearn.model_selection import StratifiedKFold\n",
        "# Define the number of folds\n",
        "n_folds = 10\n",
        "\n",
        "# Initialize the cross-validator\n",
        "kfold = StratifiedKFold(n_splits=10, shuffle=True, random_state=42)\n",
        "\n",
        "# Initialize lists to store the evaluation results\n",
        "accuracy_scores = []\n",
        "loss_scores = []\n",
        "\n",
        "# Perform cross-validation\n",
        "for train_idx, val_idx in kfold.split(X_train, Y_train):\n",
        "    # Split the data into training and validation sets\n",
        "    x_train_1, x_val_1 = X_train[train_idx], X_train[val_idx]\n",
        "    y_train_1, y_val_1 = Y_train[train_idx], Y_train[val_idx]\n",
        "\n",
        "    # Compile and train the model\n",
        "    model.compile(optimizer='adam', loss='categorical_crossentropy', metrics=['accuracy'])\n",
        "    model.fit(x_train_1, y_train_1, epochs=10, batch_size=32, verbose=0)\n",
        "    #y_val= np.argmax(y_val, axis=1)\n",
        "    # Evaluate the model on the validation set\n",
        "    scores = model.evaluate(x_val_1, y_val_1, verbose=0)\n",
        "\n",
        "    # Store the evaluation results\n",
        "    loss_scores.append(scores[0])\n",
        "    accuracy_scores.append(scores[1])\n",
        "\n",
        "# Calculate and print the average performance metrics\n",
        "print(\"Average loss: \", np.mean(loss_scores))\n",
        "print(\"Average accuracy: \", np.mean(accuracy_scores))\n",
        "\n",
        "model.evaluate(X_test,Y_test)"
      ]
    },
    {
      "cell_type": "markdown",
      "metadata": {
        "id": "LkD5fyq3Fe3p"
      },
      "source": [
        "Now we have to actualy try the regression, we could use the method model.predict"
      ]
    },
    {
      "cell_type": "code",
      "execution_count": null,
      "metadata": {
        "id": "dkraYxm_Fs-i",
        "colab": {
          "base_uri": "https://localhost:8080/"
        },
        "outputId": "73640958-991a-403a-d23e-97a7b6919da3"
      },
      "outputs": [
        {
          "output_type": "stream",
          "name": "stdout",
          "text": [
            "(1, 32, 8)\n",
            "1/1 [==============================] - 0s 20ms/step\n",
            "1.0\n",
            "6 (1, 7)\n"
          ]
        }
      ],
      "source": [
        "# Reshape the data to match the input shape of the model\n",
        "new_data= pd_dataframe['pullOffHammerOn'][400]\n",
        "\n",
        "new_data= np.reshape(new_data,(1,new_data.shape[0], new_data.shape[1]))\n",
        "print(new_data.shape)\n",
        "#new_data = new_data.reshape(1, -1)\n",
        "\n",
        "# Make a prediction using the model\n",
        "prediction = model.predict(new_data)\n",
        "print(np.sum(prediction))\n",
        "index= np.argmax(prediction)\n",
        "print(np.argmax(prediction), prediction.shape)"
      ]
    },
    {
      "cell_type": "markdown",
      "metadata": {
        "id": "3towlp2lCKN8"
      },
      "source": [
        "## Exporting the model \n",
        "Now we want to save the model to use it in RawPower\n"
      ]
    },
    {
      "cell_type": "code",
      "execution_count": null,
      "metadata": {
        "id": "r2SsSEscDGlT"
      },
      "outputs": [],
      "source": [
        "# Save the model\n",
        "model.save('sEMG_regression.h5')"
      ]
    },
    {
      "cell_type": "markdown",
      "metadata": {
        "id": "U0tTUBK8DoNd"
      },
      "source": [
        "be sure to have alla the requirements to run the model "
      ]
    },
    {
      "cell_type": "code",
      "execution_count": null,
      "metadata": {
        "id": "Ui58rZowDrlk"
      },
      "outputs": [],
      "source": [
        "!pip freeze > requirements.txt\n",
        "!pip freeze"
      ]
    },
    {
      "cell_type": "markdown",
      "metadata": {
        "id": "pqQzdy1UY_1C"
      },
      "source": [
        "## Further implementations "
      ]
    },
    {
      "cell_type": "markdown",
      "metadata": {
        "id": "x0nfRdvQGYVa"
      },
      "source": [
        "To keep track of the patterns of each single channel separately, you can use a multichannel LSTM model. This model has separate LSTM cells for each channel, which can learn to extract relevant features from the channel's data independently. You can then combine the outputs from each channel's LSTM cell to produce a final output."
      ]
    },
    {
      "cell_type": "code",
      "execution_count": null,
      "metadata": {
        "id": "CcoxHRZBGlDh"
      },
      "outputs": [],
      "source": [
        "\n",
        "\"\"\"\n",
        "# Define input shape for each channel\n",
        "input_shape = (timesteps, features_per_channel)\n",
        "\n",
        "# Define input layers for each channel\n",
        "input_channel1 = Input(shape=input_shape, name='input_channel1')\n",
        "input_channel2 = Input(shape=input_shape, name='input_channel2')\n",
        "input_channel3 = Input(shape=input_shape, name='input_channel3')\n",
        "input_channel4 = Input(shape=input_shape, name='input_channel4')\n",
        "input_channel5 = Input(shape=input_shape, name='input_channel5')\n",
        "input_channel6 = Input(shape=input_shape, name='input_channel6')\n",
        "input_channel7 = Input(shape=input_shape, name='input_channel7')\n",
        "input_channel8 = Input(shape=input_shape, name='input_channel8')\n",
        "\n",
        "# Define LSTM layers for each channel\n",
        "lstm_channel1 = LSTM(32, return_sequences=True)(input_channel1)\n",
        "lstm_channel2 = LSTM(32, return_sequences=True)(input_channel2)\n",
        "lstm_channel3 = LSTM(32, return_sequences=True)(input_channel3)\n",
        "lstm_channel4 = LSTM(32, return_sequences=True)(input_channel4)\n",
        "lstm_channel5 = LSTM(32, return_sequences=True)(input_channel5)\n",
        "lstm_channel6 = LSTM(32, return_sequences=True)(input_channel6)\n",
        "lstm_channel7 = LSTM(32, return_sequences=True)(input_channel7)\n",
        "lstm_channel8 = LSTM(32, return_sequences=True)(input_channel8)\n",
        "\n",
        "# Concatenate outputs from all LSTM layers\n",
        "concatenated = concatenate([lstm_channel1, lstm_channel2, lstm_channel3, lstm_channel4, lstm_channel5, lstm_channel6, lstm_channel7, lstm_channel8])\n",
        "\n",
        "# Define output layer\n",
        "output = Dense(5, activation='sigmoid')(concatenated)\n",
        "\n",
        "# Define model\n",
        "model = Model(inputs=[input_channel1, input_channel2, input_channel3, input_channel4, input_channel5, input_channel6, input_channel7, input_channel8], outputs=output)\n",
        "\"\"\""
      ]
    },
    {
      "cell_type": "markdown",
      "metadata": {
        "id": "EiRUj5c35AtG"
      },
      "source": [
        "Once your model is compiled, you can train it using a supervised learning approach, where you associate specific input sEMG data streams with specific output parameter values. You can do this by creating a dataset that consists of pairs of input-output data points, where each input sEMG data stream is associated with a corresponding output parameter value.\n",
        "\n",
        "Assuming you have a dataset with N input-output data pairs, you can train your model using the fit method in Keras:"
      ]
    },
    {
      "cell_type": "code",
      "execution_count": null,
      "metadata": {
        "id": "UxdfebiR5C6E"
      },
      "outputs": [],
      "source": [
        "model.fit(X_train, y_train, batch_size=32, epochs=50)"
      ]
    },
    {
      "cell_type": "markdown",
      "metadata": {
        "id": "C3PPrPtN5RhP"
      },
      "source": [
        "In this example, X_train is a 3D tensor of shape (N, timesteps, input_dim) containing the input sEMG data streams, and y_train is a 2D tensor of shape (N, 5) containing the associated output parameter values. We're using a batch size of 32 and training for 50 epochs.\n",
        "\n",
        "## Input definition: Tensor array\n",
        "In machine learning, a tensor is a mathematical object represented as a multi-dimensional array of numerical values. Tensors can be used to represent a wide variety of data types, including scalars (0-dimensional tensors), vectors (1-dimensional tensors), matrices (2-dimensional tensors), and higher-dimensional arrays (3-dimensional or higher-order tensors).\n",
        "\n",
        "In deep learning, tensors are used to represent both the input data and the parameters of the neural network. "
      ]
    },
    {
      "cell_type": "markdown",
      "metadata": {
        "id": "KrBxl-Yu5Vvo"
      },
      "source": [
        "Finally, once your model is trained, you can use it to predict the output parameter values for new sEMG data streams in real-time using the predict method:"
      ]
    },
    {
      "cell_type": "code",
      "execution_count": null,
      "metadata": {
        "id": "FUSt1lB85SNG"
      },
      "outputs": [],
      "source": [
        "y_pred = model.predict(X_new)"
      ]
    },
    {
      "cell_type": "markdown",
      "metadata": {
        "id": "ykLoVabv6toN"
      },
      "source": [
        "In this example, X_new is a 3D tensor of shape (1, timesteps, input_dim) containing a new sEMG data stream, and y_pred is a 2D tensor of shape (1, 5) containing the predicted output parameter values.\n"
      ]
    },
    {
      "cell_type": "markdown",
      "metadata": {
        "id": "U9n62q1k7-NY"
      },
      "source": [
        "# Dataset preparation \n",
        "## From pandas dataframe to Tensor\n",
        "To define a tensor from a Pandas DataFrame, you can use the .values attribute of the DataFrame, which returns a NumPy array containing the data in the DataFrame. You can then convert the NumPy array to a tensor using TensorFlow. \n",
        "### How a dataset have to look like in Keras\n",
        "in Keras, a dataset typically consists of two separate arrays: the input data (features) and the target data (labels). The input data array should have shape (num_samples, input_dim) where num_samples is the number of samples and input_dim is the number of input features. The target data array should have shape (num_samples, num_classes) where num_samples is the number of samples and num_classes is the number of output classes.\n",
        "\n",
        "Alternatively, the dataset can be represented as a tuple or list of (x, y) pairs, where x is the input data array and y is the target data array. This is often the format returned by Keras' built-in dataset utilities and can be passed directly to the fit() method of a Keras model.\n"
      ]
    },
    {
      "cell_type": "code",
      "execution_count": null,
      "metadata": {
        "id": "uN5qYUVi6tLk"
      },
      "outputs": [],
      "source": [
        "import pandas as pd\n",
        "import tensorflow as tf\n",
        "\n",
        "# Create a sample DataFrame\n",
        "df = pd.DataFrame({\n",
        "    'A': [1, 2, 3],\n",
        "    'B': [4, 5, 6],\n",
        "    'C': [7, 8, 9]\n",
        "})\n",
        "\n",
        "# Convert DataFrame to a tensor using TensorFlow\n",
        "tensor = tf.convert_to_tensor(df.values, dtype=tf.float32)\n",
        "print(tensor)"
      ]
    },
    {
      "cell_type": "code",
      "execution_count": null,
      "metadata": {
        "id": "TztEWF0iyqdG"
      },
      "outputs": [],
      "source": []
    },
    {
      "cell_type": "markdown",
      "metadata": {
        "id": "JltOZy4CpWDH"
      },
      "source": [
        "\n",
        "Now we want the model to have 24 inputs (RMS value) and 5 output. We need to pack one specific acquisition\n",
        "\n",
        "We create a buffer and we populate it with the stream of data taken by python associating it a specific outbuffer.\n"
      ]
    },
    {
      "cell_type": "code",
      "execution_count": null,
      "metadata": {
        "id": "31EvKekppSrg"
      },
      "outputs": [],
      "source": [
        "\n",
        "\"\"\"\n",
        "# Initialize the input and output buffers\n",
        "input_buffer = []\n",
        "output_buffer = []\n",
        "\n",
        "# Define the buffer size and time interval for accumulating data\n",
        "buffer_size = 100\n",
        "time_interval = 1.0\n",
        "\n",
        "# Loop over the input stream\n",
        "while True:\n",
        "    # Read an input vector from the stream\n",
        "    input_vector = read_input_vector()\n",
        "\n",
        "    # Append the input vector to the input buffer\n",
        "    input_buffer.append(input_vector)\n",
        "\n",
        "    # Read the corresponding output value from the stream\n",
        "    output_value = read_output_value()\n",
        "\n",
        "    # Append the output value to the output buffer\n",
        "    output_buffer.append(output_value)\n",
        "\n",
        "    # If the buffer is full, train the model on the accumulated data\n",
        "    if len(input_buffer) == buffer_size:\n",
        "        # Convert the input and output buffers to numpy arrays\n",
        "        X_train = np.array(input_buffer)\n",
        "        y_train = np.array(output_buffer)\n",
        "\n",
        "        # Train the model on the labeled training data\n",
        "\"\"\""
      ]
    }
  ],
  "metadata": {
    "accelerator": "GPU",
    "colab": {
      "provenance": [],
      "gpuType": "T4",
      "mount_file_id": "1p3gQWyzn2gnxFadfNFKfGRwEjlluf25f",
      "authorship_tag": "ABX9TyOqLAfDArrixOyUSy0k7St/",
      "include_colab_link": true
    },
    "gpuClass": "standard",
    "kernelspec": {
      "display_name": "Python 3",
      "name": "python3"
    },
    "language_info": {
      "name": "python"
    }
  },
  "nbformat": 4,
  "nbformat_minor": 0
}